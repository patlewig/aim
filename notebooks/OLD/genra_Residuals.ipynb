{
 "cells": [
  {
   "cell_type": "markdown",
   "metadata": {},
   "source": [
    "### Import libraries and load files"
   ]
  },
  {
   "cell_type": "code",
   "execution_count": 1,
   "metadata": {},
   "outputs": [
    {
     "data": {
      "text/html": [
       "<div>\n",
       "<style scoped>\n",
       "    .dataframe tbody tr th:only-of-type {\n",
       "        vertical-align: middle;\n",
       "    }\n",
       "\n",
       "    .dataframe tbody tr th {\n",
       "        vertical-align: top;\n",
       "    }\n",
       "\n",
       "    .dataframe thead th {\n",
       "        text-align: right;\n",
       "    }\n",
       "</style>\n",
       "<table border=\"1\" class=\"dataframe\">\n",
       "  <thead>\n",
       "    <tr style=\"text-align: right;\">\n",
       "      <th></th>\n",
       "      <th>Y_true</th>\n",
       "      <th>Y_pred</th>\n",
       "      <th>tox_list</th>\n",
       "    </tr>\n",
       "  </thead>\n",
       "  <tbody>\n",
       "    <tr>\n",
       "      <th>DTXSID5020281</th>\n",
       "      <td>-0.465339</td>\n",
       "      <td>-0.279420</td>\n",
       "      <td>[tox_184, tox_195, tox_196, tox_301, tox_585]</td>\n",
       "    </tr>\n",
       "    <tr>\n",
       "      <th>DTXSID8020961</th>\n",
       "      <td>-0.734786</td>\n",
       "      <td>-0.863139</td>\n",
       "      <td>[tox_97, tox_100, tox_101, tox_195, tox_196, t...</td>\n",
       "    </tr>\n",
       "    <tr>\n",
       "      <th>DTXSID0021834</th>\n",
       "      <td>-0.087091</td>\n",
       "      <td>-0.209883</td>\n",
       "      <td>[tox_122, tox_123, tox_128, tox_195, tox_196, ...</td>\n",
       "    </tr>\n",
       "    <tr>\n",
       "      <th>DTXSID2044347</th>\n",
       "      <td>-1.058925</td>\n",
       "      <td>-1.073014</td>\n",
       "      <td>[tox_68, tox_70, tox_73, tox_85, tox_86, tox_1...</td>\n",
       "    </tr>\n",
       "    <tr>\n",
       "      <th>DTXSID4025745</th>\n",
       "      <td>-1.022972</td>\n",
       "      <td>-0.931206</td>\n",
       "      <td>[tox_152, tox_153, tox_154, tox_155, tox_162, ...</td>\n",
       "    </tr>\n",
       "  </tbody>\n",
       "</table>\n",
       "</div>"
      ],
      "text/plain": [
       "                 Y_true    Y_pred  \\\n",
       "DTXSID5020281 -0.465339 -0.279420   \n",
       "DTXSID8020961 -0.734786 -0.863139   \n",
       "DTXSID0021834 -0.087091 -0.209883   \n",
       "DTXSID2044347 -1.058925 -1.073014   \n",
       "DTXSID4025745 -1.022972 -0.931206   \n",
       "\n",
       "                                                        tox_list  \n",
       "DTXSID5020281      [tox_184, tox_195, tox_196, tox_301, tox_585]  \n",
       "DTXSID8020961  [tox_97, tox_100, tox_101, tox_195, tox_196, t...  \n",
       "DTXSID0021834  [tox_122, tox_123, tox_128, tox_195, tox_196, ...  \n",
       "DTXSID2044347  [tox_68, tox_70, tox_73, tox_85, tox_86, tox_1...  \n",
       "DTXSID4025745  [tox_152, tox_153, tox_154, tox_155, tox_162, ...  "
      ]
     },
     "execution_count": 1,
     "metadata": {},
     "output_type": "execute_result"
    }
   ],
   "source": [
    "import pandas as pd\n",
    "import matplotlib.pyplot as plt\n",
    "import numpy as np\n",
    "import os\n",
    "plt.style.use('ggplot')\n",
    "# toxprint_.pkl file sourced from GenRA_LD50_Example\n",
    "tox= pd.read_pickle('../Inputs/toxprint_.pkl')\n",
    "tox = tox[['Y_true','Y_pred','tox_list']]\n",
    "tox.head()\n",
    "#https://github.com/patlewig/acute_oral/blob/master/notebooks/01_model_datasets.ipynb"
   ]
  },
  {
   "cell_type": "markdown",
   "metadata": {},
   "source": [
    "### Calculate Error and plot Error distribution"
   ]
  },
  {
   "cell_type": "code",
   "execution_count": 2,
   "metadata": {},
   "outputs": [
    {
     "data": {
      "text/plain": [
       "Text(0.5, 1.0, 'ToxPrints')"
      ]
     },
     "execution_count": 2,
     "metadata": {},
     "output_type": "execute_result"
    },
    {
     "data": {
      "image/png": "[encoded data removed]",
      "text/plain": [
       "<Figure size 432x288 with 1 Axes>"
      ]
     },
     "metadata": {},
     "output_type": "display_data"
    }
   ],
   "source": [
    "tox['Error'] = tox['Y_true']- tox['Y_pred']\n",
    "tox['Abs_Error'] = np.abs(tox['Error'])\n",
    "tox.name = 'full'\n",
    "\n",
    "X = tox['Error']\n",
    "n,bins,patches = plt.hist(X,bins=40,linewidth=1,edgecolor='black')\n",
    "plt.xlabel('Error')\n",
    "plt.ylabel('Structure Freq')\n",
    "plt.title('ToxPrints')\n"
   ]
  },
  {
   "cell_type": "code",
   "execution_count": 3,
   "metadata": {},
   "outputs": [
    {
     "name": "stdout",
     "output_type": "stream",
     "text": [
      "(6972, 5)\n"
     ]
    },
    {
     "data": {
      "text/plain": [
       "Y_true      -0.496437\n",
       "Y_pred      -0.525617\n",
       "Error        0.029180\n",
       "Abs_Error    0.468173\n",
       "dtype: float64"
      ]
     },
     "execution_count": 3,
     "metadata": {},
     "output_type": "execute_result"
    }
   ],
   "source": [
    "print(tox.shape)\n",
    "tox.mean()"
   ]
  },
  {
   "cell_type": "markdown",
   "metadata": {},
   "source": [
    "## Make sub-dataframe of best/worst prediction results\n",
    "\n",
    "#### Worst 5%"
   ]
  },
  {
   "cell_type": "code",
   "execution_count": 4,
   "metadata": {},
   "outputs": [
    {
     "name": "stdout",
     "output_type": "stream",
     "text": [
      "(348, 5)\n"
     ]
    },
    {
     "data": {
      "text/plain": [
       "Y_true       0.651425\n",
       "Y_pred      -0.227720\n",
       "Error        0.879145\n",
       "Abs_Error    1.757085\n",
       "dtype: float64"
      ]
     },
     "execution_count": 4,
     "metadata": {},
     "output_type": "execute_result"
    }
   ],
   "source": [
    "from math import floor\n",
    "frac = floor(len(tox)*.05)\n",
    "tox_worst = tox.sort_values(by=['Abs_Error'],ascending=False).head(frac)\n",
    "tox_worst.name = 'worst_5_perc'\n",
    "print(tox_worst.shape)\n",
    "tox_worst.mean()"
   ]
  },
  {
   "cell_type": "markdown",
   "metadata": {},
   "source": [
    "#### Best 5%"
   ]
  },
  {
   "cell_type": "code",
   "execution_count": 5,
   "metadata": {},
   "outputs": [
    {
     "name": "stdout",
     "output_type": "stream",
     "text": [
      "(348, 5)\n"
     ]
    },
    {
     "data": {
      "text/plain": [
       "Y_true      -0.616690\n",
       "Y_pred      -0.617723\n",
       "Error        0.001032\n",
       "Abs_Error    0.014765\n",
       "dtype: float64"
      ]
     },
     "execution_count": 5,
     "metadata": {},
     "output_type": "execute_result"
    }
   ],
   "source": [
    "tox_best = tox.sort_values(by=['Abs_Error']).head(frac)  #\n",
    "tox_best.name = 'best_5_perc'\n",
    "print(tox_best.shape)\n",
    "tox_best.mean()"
   ]
  },
  {
   "cell_type": "markdown",
   "metadata": {},
   "source": [
    "## Find the frequency of fragments in each dataset\n",
    "    - Interested to know the differences in distribution of individual fragments in structure set\n",
    "    - Which fragments show up more frequently for better/worse predictions?\n",
    "    "
   ]
  },
  {
   "cell_type": "code",
   "execution_count": 6,
   "metadata": {},
   "outputs": [],
   "source": [
    "from collections import Counter\n",
    "def frag_freq(df,col_name,frac=True):\n",
    "    fragments = []\n",
    "    for row in df[col_name]:  \n",
    "        for fragment in row:\n",
    "            fragments.append(fragment)\n",
    "\n",
    "    frequency = Counter(fragments)\n",
    "\n",
    "    for item, count in frequency.items():\n",
    "        if frac == True:\n",
    "            frequency[item] = np.round(frequency[item]/df.shape[0],4)\n",
    "    \n",
    "    df = pd.DataFrame.from_dict(frequency, orient='index', columns=[df.name])\n",
    "    \n",
    "    return df\n"
   ]
  },
  {
   "cell_type": "code",
   "execution_count": 7,
   "metadata": {},
   "outputs": [],
   "source": [
    "# Find fragment freq using our previous dfs\n",
    "best = frag_freq(tox_best,'tox_list')\n",
    "full = frag_freq(tox,'tox_list')\n",
    "worst = frag_freq(tox_worst,'tox_list')\n"
   ]
  },
  {
   "cell_type": "code",
   "execution_count": 8,
   "metadata": {},
   "outputs": [
    {
     "data": {
      "text/html": [
       "<div>\n",
       "<style scoped>\n",
       "    .dataframe tbody tr th:only-of-type {\n",
       "        vertical-align: middle;\n",
       "    }\n",
       "\n",
       "    .dataframe tbody tr th {\n",
       "        vertical-align: top;\n",
       "    }\n",
       "\n",
       "    .dataframe thead th {\n",
       "        text-align: right;\n",
       "    }\n",
       "</style>\n",
       "<table border=\"1\" class=\"dataframe\">\n",
       "  <thead>\n",
       "    <tr style=\"text-align: right;\">\n",
       "      <th></th>\n",
       "      <th>full</th>\n",
       "      <th>worst_5_perc</th>\n",
       "      <th>best_5_perc</th>\n",
       "    </tr>\n",
       "  </thead>\n",
       "  <tbody>\n",
       "    <tr>\n",
       "      <th>tox_585</th>\n",
       "      <td>0.5577</td>\n",
       "      <td>0.4511</td>\n",
       "      <td>0.5948</td>\n",
       "    </tr>\n",
       "    <tr>\n",
       "      <th>tox_70</th>\n",
       "      <td>0.4872</td>\n",
       "      <td>0.4684</td>\n",
       "      <td>0.4914</td>\n",
       "    </tr>\n",
       "    <tr>\n",
       "      <th>tox_436</th>\n",
       "      <td>0.3805</td>\n",
       "      <td>0.3103</td>\n",
       "      <td>0.4310</td>\n",
       "    </tr>\n",
       "    <tr>\n",
       "      <th>tox_301</th>\n",
       "      <td>0.3373</td>\n",
       "      <td>0.3362</td>\n",
       "      <td>0.3678</td>\n",
       "    </tr>\n",
       "    <tr>\n",
       "      <th>tox_476</th>\n",
       "      <td>0.3012</td>\n",
       "      <td>0.2443</td>\n",
       "      <td>0.3305</td>\n",
       "    </tr>\n",
       "    <tr>\n",
       "      <th>tox_437</th>\n",
       "      <td>0.2400</td>\n",
       "      <td>0.1523</td>\n",
       "      <td>0.2874</td>\n",
       "    </tr>\n",
       "    <tr>\n",
       "      <th>tox_678</th>\n",
       "      <td>0.2174</td>\n",
       "      <td>0.2356</td>\n",
       "      <td>0.2500</td>\n",
       "    </tr>\n",
       "    <tr>\n",
       "      <th>tox_475</th>\n",
       "      <td>0.2131</td>\n",
       "      <td>0.1897</td>\n",
       "      <td>0.2471</td>\n",
       "    </tr>\n",
       "    <tr>\n",
       "      <th>tox_214</th>\n",
       "      <td>0.2111</td>\n",
       "      <td>0.2385</td>\n",
       "      <td>0.2069</td>\n",
       "    </tr>\n",
       "    <tr>\n",
       "      <th>tox_36</th>\n",
       "      <td>0.2104</td>\n",
       "      <td>0.2385</td>\n",
       "      <td>0.2069</td>\n",
       "    </tr>\n",
       "  </tbody>\n",
       "</table>\n",
       "</div>"
      ],
      "text/plain": [
       "           full  worst_5_perc  best_5_perc\n",
       "tox_585  0.5577        0.4511       0.5948\n",
       "tox_70   0.4872        0.4684       0.4914\n",
       "tox_436  0.3805        0.3103       0.4310\n",
       "tox_301  0.3373        0.3362       0.3678\n",
       "tox_476  0.3012        0.2443       0.3305\n",
       "tox_437  0.2400        0.1523       0.2874\n",
       "tox_678  0.2174        0.2356       0.2500\n",
       "tox_475  0.2131        0.1897       0.2471\n",
       "tox_214  0.2111        0.2385       0.2069\n",
       "tox_36   0.2104        0.2385       0.2069"
      ]
     },
     "execution_count": 8,
     "metadata": {},
     "output_type": "execute_result"
    }
   ],
   "source": [
    "# Merge all together to a single df\n",
    "compare = pd.merge(full,worst,how='outer',left_index=True,right_index=True)\n",
    "compare = pd.merge(compare,best,how='outer',left_index=True,right_index=True)\n",
    "compare = compare.fillna(0)\n",
    "compare.sort_values(by=['full'],ascending=False).head(10)\n",
    "\n",
    "# compare = compare[compare['full']>0.1] optional filter, presence of fragment\n",
    "\n",
    "# Can see Toxprint_585 has higher presence in \"best\" predictions, lower presence in \"worst\" predictions"
   ]
  },
  {
   "cell_type": "code",
   "execution_count": 9,
   "metadata": {},
   "outputs": [
    {
     "data": {
      "text/plain": [
       "[<matplotlib.lines.Line2D at 0x7f3e1011c460>]"
      ]
     },
     "execution_count": 9,
     "metadata": {},
     "output_type": "execute_result"
    },
    {
     "data": {
      "image/png": "[encoded data removed]",
      "text/plain": [
       "<Figure size 432x288 with 1 Axes>"
      ]
     },
     "metadata": {},
     "output_type": "display_data"
    }
   ],
   "source": [
    "X = compare['worst_5_perc']\n",
    "y = compare['full']\n",
    "plt.ylabel('full')\n",
    "plt.xlabel('worst')\n",
    "plt.xlim([0,0.6])\n",
    "plt.ylim([0,0.6])\n",
    "\n",
    "plt.scatter(X,y)\n",
    "plt.plot(X,X,color='black')"
   ]
  },
  {
   "cell_type": "code",
   "execution_count": 10,
   "metadata": {},
   "outputs": [
    {
     "data": {
      "text/plain": [
       "[<matplotlib.lines.Line2D at 0x7f3e1008f5e0>]"
      ]
     },
     "execution_count": 10,
     "metadata": {},
     "output_type": "execute_result"
    },
    {
     "data": {
      "image/png": "[encoded data removed]",
      "text/plain": [
       "<Figure size 432x288 with 1 Axes>"
      ]
     },
     "metadata": {},
     "output_type": "display_data"
    }
   ],
   "source": [
    "X = compare['best_5_perc']\n",
    "y = compare['full']\n",
    "plt.scatter(X,y)\n",
    "plt.xlabel('best')\n",
    "plt.ylabel('full')\n",
    "plt.xlim([0,0.6])\n",
    "plt.ylim([0,0.6])\n",
    "plt.plot(X,X,color='black')"
   ]
  },
  {
   "cell_type": "code",
   "execution_count": 11,
   "metadata": {},
   "outputs": [
    {
     "data": {
      "text/plain": [
       "[<matplotlib.lines.Line2D at 0x7f3e100725e0>]"
      ]
     },
     "execution_count": 11,
     "metadata": {},
     "output_type": "execute_result"
    },
    {
     "data": {
      "image/png": "[encoded data removed]",
      "text/plain": [
       "<Figure size 432x288 with 1 Axes>"
      ]
     },
     "metadata": {},
     "output_type": "display_data"
    }
   ],
   "source": [
    "X = compare['best_5_perc']\n",
    "y = compare['worst_5_perc']\n",
    "plt.scatter(X,y)\n",
    "plt.xlabel('Best Predicted')\n",
    "plt.ylabel('Worst Predicted')\n",
    "plt.xlim([0,0.6])\n",
    "plt.ylim([0,0.6])\n",
    "plt.title('Fraction of Structures containing ChemoType')\n",
    "plt.plot(X,X,color='black')"
   ]
  },
  {
   "cell_type": "code",
   "execution_count": 12,
   "metadata": {},
   "outputs": [],
   "source": [
    "# ignore for now\n",
    "#compare['Odds Ratio'] = (compare['worst_5_perc']+(1-compare['best_5_perc'])) /(compare['best_5_perc']+(1-compare['worst_5_perc']))\n",
    "#compare.sort_values(by=['Odds Ratio'],ascending=False)"
   ]
  },
  {
   "cell_type": "markdown",
   "metadata": {},
   "source": [
    "DataSet 1: Worst 5% Predicted Structures, 348 structures\n",
    "\n",
    "DataSet 2: Best 5% Predicted Structures, 348 structures\n",
    "\n",
    "- Features per structure: \n",
    "        -Presence of Fragment (548, boolean)\n",
    "        -Actual Toxicity (1, float)\n",
    "        -Predicted Toxicity (1, float)\n",
    "        -Prediction Error (1, float)\n",
    "        \n",
    "- Features of dataset\n",
    "        -Fraction of presence of fragment (548, float)\n",
    "        -Mean Actual Toxicity (1, float)\n",
    "        -Mean Predicted Toxicity (1, float)\n",
    "        -Mean Prediction Error (1, float)\n",
    "        \n"
   ]
  },
  {
   "cell_type": "markdown",
   "metadata": {},
   "source": [
    "| Feature      | Best_      | Worst_    |\n",
    "| ------------ | -----------|---------- |\n",
    "|  Present     |    a       |     b   |\n",
    "| Not Present  |   c        |    d      |\n",
    "\n",
    "Odds Ratio = (a+d)/(c+b)"
   ]
  },
  {
   "cell_type": "code",
   "execution_count": 13,
   "metadata": {},
   "outputs": [
    {
     "data": {
      "text/plain": [
       "(0.6666666666666666, 0.8333333333333334)"
      ]
     },
     "execution_count": 13,
     "metadata": {},
     "output_type": "execute_result"
    }
   ],
   "source": [
    "import scipy.stats as stats\n",
    "a = [[1,2],[3,4]]\n",
    "stats.fisher_exact(a,alternative='greater')\n"
   ]
  },
  {
   "cell_type": "code",
   "execution_count": 14,
   "metadata": {},
   "outputs": [],
   "source": [
    "bestcount = frag_freq(tox_best,'tox_list',False)\n",
    "worstcount = frag_freq(tox_worst,'tox_list',False)\n",
    "compare_counts = pd.merge(bestcount,worstcount,how='outer',left_index=True,right_index=True).fillna(0)\n",
    "# best_5_perc column: N structures in dataset 1 with Fragment \n",
    "# worst_5_perc column: N structures in dataset 2 with fragment"
   ]
  },
  {
   "cell_type": "code",
   "execution_count": 15,
   "metadata": {},
   "outputs": [],
   "source": [
    "compare_counts['c'] = len(tox_best)-compare_counts['best_5_perc']  #N structures without frag in dataset 1\n",
    "compare_counts['d'] = len(tox_worst)-compare_counts['worst_5_perc'] # N structures without frag in dataset 2\n",
    "\n",
    "compare_counts['list'] = compare_counts[['best_5_perc','worst_5_perc','c','d']].values.tolist()\n",
    "compare_counts['list'] = compare_counts['list'].apply(lambda x: np.array(x).reshape((2,2)))"
   ]
  },
  {
   "cell_type": "code",
   "execution_count": 16,
   "metadata": {},
   "outputs": [],
   "source": [
    "compare_counts['stats'] = compare_counts['list'].apply(lambda x: stats.fisher_exact(x,alternative='greater') )"
   ]
  },
  {
   "cell_type": "code",
   "execution_count": 17,
   "metadata": {},
   "outputs": [],
   "source": [
    "compare_counts['Odds Ratio'] =   compare_counts[\"stats\"].apply(lambda x : x[0])\n",
    "compare_counts['P-value'] =   compare_counts[\"stats\"].apply(lambda x : x[1])\n",
    "compare_counts = compare_counts.drop(columns=['stats'])"
   ]
  },
  {
   "cell_type": "code",
   "execution_count": 18,
   "metadata": {},
   "outputs": [
    {
     "data": {
      "text/html": [
       "<div>\n",
       "<style scoped>\n",
       "    .dataframe tbody tr th:only-of-type {\n",
       "        vertical-align: middle;\n",
       "    }\n",
       "\n",
       "    .dataframe tbody tr th {\n",
       "        vertical-align: top;\n",
       "    }\n",
       "\n",
       "    .dataframe thead th {\n",
       "        text-align: right;\n",
       "    }\n",
       "</style>\n",
       "<table border=\"1\" class=\"dataframe\">\n",
       "  <thead>\n",
       "    <tr style=\"text-align: right;\">\n",
       "      <th></th>\n",
       "      <th>best_5_perc</th>\n",
       "      <th>worst_5_perc</th>\n",
       "      <th>c</th>\n",
       "      <th>d</th>\n",
       "      <th>list</th>\n",
       "      <th>Odds Ratio</th>\n",
       "      <th>P-value</th>\n",
       "    </tr>\n",
       "  </thead>\n",
       "  <tbody>\n",
       "    <tr>\n",
       "      <th>tox_93</th>\n",
       "      <td>90.0</td>\n",
       "      <td>33.0</td>\n",
       "      <td>258.0</td>\n",
       "      <td>315.0</td>\n",
       "      <td>[[90.0, 33.0], [258.0, 315.0]]</td>\n",
       "      <td>3.329810</td>\n",
       "      <td>8.076905e-09</td>\n",
       "    </tr>\n",
       "    <tr>\n",
       "      <th>tox_438</th>\n",
       "      <td>91.0</td>\n",
       "      <td>37.0</td>\n",
       "      <td>257.0</td>\n",
       "      <td>311.0</td>\n",
       "      <td>[[91.0, 37.0], [257.0, 311.0]]</td>\n",
       "      <td>2.976233</td>\n",
       "      <td>7.666207e-08</td>\n",
       "    </tr>\n",
       "    <tr>\n",
       "      <th>tox_437</th>\n",
       "      <td>100.0</td>\n",
       "      <td>53.0</td>\n",
       "      <td>248.0</td>\n",
       "      <td>295.0</td>\n",
       "      <td>[[100.0, 53.0], [248.0, 295.0]]</td>\n",
       "      <td>2.244370</td>\n",
       "      <td>1.142700e-05</td>\n",
       "    </tr>\n",
       "    <tr>\n",
       "      <th>tox_585</th>\n",
       "      <td>207.0</td>\n",
       "      <td>157.0</td>\n",
       "      <td>141.0</td>\n",
       "      <td>191.0</td>\n",
       "      <td>[[207.0, 157.0], [141.0, 191.0]]</td>\n",
       "      <td>1.786014</td>\n",
       "      <td>9.788580e-05</td>\n",
       "    </tr>\n",
       "    <tr>\n",
       "      <th>tox_106</th>\n",
       "      <td>60.0</td>\n",
       "      <td>28.0</td>\n",
       "      <td>288.0</td>\n",
       "      <td>320.0</td>\n",
       "      <td>[[60.0, 28.0], [288.0, 320.0]]</td>\n",
       "      <td>2.380952</td>\n",
       "      <td>1.808531e-04</td>\n",
       "    </tr>\n",
       "    <tr>\n",
       "      <th>...</th>\n",
       "      <td>...</td>\n",
       "      <td>...</td>\n",
       "      <td>...</td>\n",
       "      <td>...</td>\n",
       "      <td>...</td>\n",
       "      <td>...</td>\n",
       "      <td>...</td>\n",
       "    </tr>\n",
       "    <tr>\n",
       "      <th>tox_26</th>\n",
       "      <td>0.0</td>\n",
       "      <td>1.0</td>\n",
       "      <td>348.0</td>\n",
       "      <td>347.0</td>\n",
       "      <td>[[0.0, 1.0], [348.0, 347.0]]</td>\n",
       "      <td>0.000000</td>\n",
       "      <td>1.000000e+00</td>\n",
       "    </tr>\n",
       "    <tr>\n",
       "      <th>tox_628</th>\n",
       "      <td>0.0</td>\n",
       "      <td>2.0</td>\n",
       "      <td>348.0</td>\n",
       "      <td>346.0</td>\n",
       "      <td>[[0.0, 2.0], [348.0, 346.0]]</td>\n",
       "      <td>0.000000</td>\n",
       "      <td>1.000000e+00</td>\n",
       "    </tr>\n",
       "    <tr>\n",
       "      <th>tox_452</th>\n",
       "      <td>0.0</td>\n",
       "      <td>1.0</td>\n",
       "      <td>348.0</td>\n",
       "      <td>347.0</td>\n",
       "      <td>[[0.0, 1.0], [348.0, 347.0]]</td>\n",
       "      <td>0.000000</td>\n",
       "      <td>1.000000e+00</td>\n",
       "    </tr>\n",
       "    <tr>\n",
       "      <th>tox_139</th>\n",
       "      <td>0.0</td>\n",
       "      <td>3.0</td>\n",
       "      <td>348.0</td>\n",
       "      <td>345.0</td>\n",
       "      <td>[[0.0, 3.0], [348.0, 345.0]]</td>\n",
       "      <td>0.000000</td>\n",
       "      <td>1.000000e+00</td>\n",
       "    </tr>\n",
       "    <tr>\n",
       "      <th>tox_44</th>\n",
       "      <td>0.0</td>\n",
       "      <td>1.0</td>\n",
       "      <td>348.0</td>\n",
       "      <td>347.0</td>\n",
       "      <td>[[0.0, 1.0], [348.0, 347.0]]</td>\n",
       "      <td>0.000000</td>\n",
       "      <td>1.000000e+00</td>\n",
       "    </tr>\n",
       "  </tbody>\n",
       "</table>\n",
       "<p>432 rows × 7 columns</p>\n",
       "</div>"
      ],
      "text/plain": [
       "         best_5_perc  worst_5_perc      c      d  \\\n",
       "tox_93          90.0          33.0  258.0  315.0   \n",
       "tox_438         91.0          37.0  257.0  311.0   \n",
       "tox_437        100.0          53.0  248.0  295.0   \n",
       "tox_585        207.0         157.0  141.0  191.0   \n",
       "tox_106         60.0          28.0  288.0  320.0   \n",
       "...              ...           ...    ...    ...   \n",
       "tox_26           0.0           1.0  348.0  347.0   \n",
       "tox_628          0.0           2.0  348.0  346.0   \n",
       "tox_452          0.0           1.0  348.0  347.0   \n",
       "tox_139          0.0           3.0  348.0  345.0   \n",
       "tox_44           0.0           1.0  348.0  347.0   \n",
       "\n",
       "                                     list  Odds Ratio       P-value  \n",
       "tox_93     [[90.0, 33.0], [258.0, 315.0]]    3.329810  8.076905e-09  \n",
       "tox_438    [[91.0, 37.0], [257.0, 311.0]]    2.976233  7.666207e-08  \n",
       "tox_437   [[100.0, 53.0], [248.0, 295.0]]    2.244370  1.142700e-05  \n",
       "tox_585  [[207.0, 157.0], [141.0, 191.0]]    1.786014  9.788580e-05  \n",
       "tox_106    [[60.0, 28.0], [288.0, 320.0]]    2.380952  1.808531e-04  \n",
       "...                                   ...         ...           ...  \n",
       "tox_26       [[0.0, 1.0], [348.0, 347.0]]    0.000000  1.000000e+00  \n",
       "tox_628      [[0.0, 2.0], [348.0, 346.0]]    0.000000  1.000000e+00  \n",
       "tox_452      [[0.0, 1.0], [348.0, 347.0]]    0.000000  1.000000e+00  \n",
       "tox_139      [[0.0, 3.0], [348.0, 345.0]]    0.000000  1.000000e+00  \n",
       "tox_44       [[0.0, 1.0], [348.0, 347.0]]    0.000000  1.000000e+00  \n",
       "\n",
       "[432 rows x 7 columns]"
      ]
     },
     "execution_count": 18,
     "metadata": {},
     "output_type": "execute_result"
    }
   ],
   "source": [
    "compare_counts.sort_values(by=['P-value'])"
   ]
  },
  {
   "cell_type": "code",
   "execution_count": 19,
   "metadata": {},
   "outputs": [
    {
     "data": {
      "text/plain": [
       "(42, 7)"
      ]
     },
     "execution_count": 19,
     "metadata": {},
     "output_type": "execute_result"
    }
   ],
   "source": [
    "compare_counts[compare_counts['P-value']<0.05].shape"
   ]
  },
  {
   "cell_type": "code",
   "execution_count": null,
   "metadata": {},
   "outputs": [],
   "source": []
  }
 ],
 "metadata": {
  "kernelspec": {
   "display_name": "Python 3",
   "language": "python",
   "name": "python3"
  },
  "language_info": {
   "codemirror_mode": {
    "name": "ipython",
    "version": 3
   },
   "file_extension": ".py",
   "mimetype": "text/x-python",
   "name": "python",
   "nbconvert_exporter": "python",
   "pygments_lexer": "ipython3",
   "version": "3.7.6"
  }
 },
 "nbformat": 4,
 "nbformat_minor": 5
}
