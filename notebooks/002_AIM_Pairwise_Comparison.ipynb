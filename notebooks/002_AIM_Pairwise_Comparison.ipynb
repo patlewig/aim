{
 "cells": [
  {
   "cell_type": "markdown",
   "id": "6e6e82b0",
   "metadata": {},
   "source": [
    "## Codifying the AIM fragments into CSRML and evaluating their performance against the AIM Database"
   ]
  },
  {
   "cell_type": "markdown",
   "id": "a467a18c",
   "metadata": {},
   "source": [
    "#### QAPP ID: I-CCED-0032994-QP-1-0\n",
    "#### Author: Matthew Adams\n",
    "#### Principal Investigator: Grace Patlewicz\n",
    "#### Last modified 12 July 2022"
   ]
  },
  {
   "cell_type": "code",
   "execution_count": 1,
   "id": "e335aa0d",
   "metadata": {},
   "outputs": [],
   "source": [
    "import numpy as np\n",
    "import pandas as pd\n",
    "import matplotlib.pyplot as plt\n",
    "import seaborn as sns\n",
    "import re\n",
    "import sys\n",
    "import os\n",
    "import openpyxl\n",
    "%matplotlib inline\n"
   ]
  },
  {
   "cell_type": "code",
   "execution_count": 2,
   "id": "f22f6c2a",
   "metadata": {},
   "outputs": [],
   "source": [
    "TOP = os.getcwd().replace('notebooks', '')\n",
    "raw_dir = TOP + 'data/raw/'\n",
    "interim_dir = TOP + 'data/interim/'\n",
    "processed_dir = TOP + 'data/processed/'\n",
    "external_dir = TOP + 'data/external/'\n",
    "figures_dir = TOP + 'reports/figures/'\n",
    "refs_dir = TOP + 'references/'"
   ]
  },
  {
   "cell_type": "code",
   "execution_count": 3,
   "id": "dd61b6da",
   "metadata": {},
   "outputs": [
    {
     "name": "stdout",
     "output_type": "stream",
     "text": [
      "(83277, 2)\n"
     ]
    },
    {
     "data": {
      "text/html": [
       "<div>\n",
       "<style scoped>\n",
       "    .dataframe tbody tr th:only-of-type {\n",
       "        vertical-align: middle;\n",
       "    }\n",
       "\n",
       "    .dataframe tbody tr th {\n",
       "        vertical-align: top;\n",
       "    }\n",
       "\n",
       "    .dataframe thead th {\n",
       "        text-align: right;\n",
       "    }\n",
       "</style>\n",
       "<table border=\"1\" class=\"dataframe\">\n",
       "  <thead>\n",
       "    <tr style=\"text-align: right;\">\n",
       "      <th></th>\n",
       "      <th>SMILES</th>\n",
       "      <th>AIM_list</th>\n",
       "    </tr>\n",
       "  </thead>\n",
       "  <tbody>\n",
       "    <tr>\n",
       "      <th>0</th>\n",
       "      <td>N1C(=O)NC(=O)C(F)=C1</td>\n",
       "      <td>[5, 10, 15, 43, 58, 172, 174, 176, 206, 210, 3C]</td>\n",
       "    </tr>\n",
       "    <tr>\n",
       "      <th>1</th>\n",
       "      <td>N(=O)(=O)c(ccc(O)c1N(=O)(=O))c1</td>\n",
       "      <td>[19, 23, 34, 13C]</td>\n",
       "    </tr>\n",
       "    <tr>\n",
       "      <th>2</th>\n",
       "      <td>Clc1c(Cl)cc(C(O)CNC(C)C)cc1</td>\n",
       "      <td>[0, 1, 2, 7, 10, 19, 21, 214, 90C]</td>\n",
       "    </tr>\n",
       "    <tr>\n",
       "      <th>3</th>\n",
       "      <td>c1cc(O)c(O)cc1C(O)CN(Cl)([H])([H])C(C)C</td>\n",
       "      <td>[0, 1, 2, 7, 19, 23, 107, 127, 214]</td>\n",
       "    </tr>\n",
       "    <tr>\n",
       "      <th>4</th>\n",
       "      <td>CN1C2CC(CC1C3OC23)OC(=O)C(CO)c4ccccc4</td>\n",
       "      <td>[0, 1, 2, 7, 8, 11, 19, 40, 171, 173, 174, 82C]</td>\n",
       "    </tr>\n",
       "  </tbody>\n",
       "</table>\n",
       "</div>"
      ],
      "text/plain": [
       "                                    SMILES  \\\n",
       "0                     N1C(=O)NC(=O)C(F)=C1   \n",
       "1          N(=O)(=O)c(ccc(O)c1N(=O)(=O))c1   \n",
       "2              Clc1c(Cl)cc(C(O)CNC(C)C)cc1   \n",
       "3  c1cc(O)c(O)cc1C(O)CN(Cl)([H])([H])C(C)C   \n",
       "4    CN1C2CC(CC1C3OC23)OC(=O)C(CO)c4ccccc4   \n",
       "\n",
       "                                           AIM_list  \n",
       "0  [5, 10, 15, 43, 58, 172, 174, 176, 206, 210, 3C]  \n",
       "1                                 [19, 23, 34, 13C]  \n",
       "2                [0, 1, 2, 7, 10, 19, 21, 214, 90C]  \n",
       "3               [0, 1, 2, 7, 19, 23, 107, 127, 214]  \n",
       "4   [0, 1, 2, 7, 8, 11, 19, 40, 171, 173, 174, 82C]  "
      ]
     },
     "execution_count": 3,
     "metadata": {},
     "output_type": "execute_result"
    }
   ],
   "source": [
    "\n",
    "\n",
    "df = pd.read_csv(raw_dir+'aimdb.tsv', sep='\\t', names=['SMILES','CASRN','MW','Other','AIM Fragments'])\n",
    "df['AIM_list'] = df['AIM Fragments'].apply(lambda x: x.split(','))\n",
    "df = df[['SMILES','AIM_list']].drop_duplicates(subset=['SMILES'])\n",
    "print(df.shape)\n",
    "df.head()"
   ]
  },
  {
   "cell_type": "markdown",
   "id": "d85b0b59",
   "metadata": {},
   "source": [
    "### Load Chemotyper fingerprint file\n",
    "\n",
    "This fingerprint file was generated using the ChemoTyper tool (chemotyper.org)\n",
    "\n",
    " Inputs: AIM CSRML File (.xml) , AIMdb SDF File (.sdf)\n",
    " \n",
    " Output: fingerprint file (.tsv)"
   ]
  },
  {
   "cell_type": "code",
   "execution_count": 4,
   "id": "66c3c5d5",
   "metadata": {},
   "outputs": [],
   "source": [
    "def make_df(filename):\n",
    "    df = pd.read_csv(filename,sep='\\t')\n",
    "    df['Chemotyper_list'] = df.apply(lambda x: x.index[x == 1].tolist(), axis=1)\n",
    "    df = df[['M_SMILES','Chemotyper_list']]\n",
    "    df['Chemotyper_list'] = df['Chemotyper_list'].apply(lambda x: [s.split('_')[0]for s in x])\n",
    "    df['Chemotyper_list'] = df['Chemotyper_list'].apply(lambda x: list(set(x)))\n",
    "    df= df.rename(columns={'M_SMILES':'SMILES'})\n",
    "    df = df.drop_duplicates(subset=['SMILES'])\n",
    "    return df\n",
    "\n",
    "\n"
   ]
  },
  {
   "cell_type": "code",
   "execution_count": 5,
   "id": "e74ffb4e",
   "metadata": {},
   "outputs": [],
   "source": [
    "df_AIM_new = make_df(raw_dir+'AIM_V1.1_vs_AIMdb_full_list_collab.tsv')"
   ]
  },
  {
   "cell_type": "markdown",
   "id": "13bc8375",
   "metadata": {},
   "source": [
    "Number of unique AIM fragments captured in the AIM database"
   ]
  },
  {
   "cell_type": "code",
   "execution_count": 6,
   "id": "7f756926",
   "metadata": {},
   "outputs": [],
   "source": [
    "aims = [e for e in df_AIM_new['Chemotyper_list'] ]"
   ]
  },
  {
   "cell_type": "code",
   "execution_count": 7,
   "id": "95dcd594",
   "metadata": {},
   "outputs": [
    {
     "data": {
      "text/plain": [
       "784"
      ]
     },
     "execution_count": 7,
     "metadata": {},
     "output_type": "execute_result"
    }
   ],
   "source": [
    "len(list(set([e for e in aims for e in e])))"
   ]
  },
  {
   "cell_type": "code",
   "execution_count": 8,
   "id": "f8c85748",
   "metadata": {},
   "outputs": [],
   "source": [
    "def make_df_diff(df_1,df_2):\n",
    "    df_join = pd.merge(df_1,df_2,on='SMILES',how='inner')\n",
    "    diff = []\n",
    "    for row in df_join.itertuples():\n",
    "        combined_uniques = list(set(row.Chemotyper_list).symmetric_difference(set(row.AIM_list)))\n",
    "        diff.append(combined_uniques)\n",
    "\n",
    "    df_join['Difference'] = diff\n",
    "    \n",
    "    return df_join"
   ]
  },
  {
   "cell_type": "markdown",
   "id": "206b0a18",
   "metadata": {},
   "source": [
    "## Join the two dataframes on SMILES\n",
    "\n",
    "This will allow us to compare the two lists of fragments:\n",
    "- The original database list\n",
    "- The CSRML model list"
   ]
  },
  {
   "cell_type": "code",
   "execution_count": 9,
   "id": "a2dbc877",
   "metadata": {},
   "outputs": [
    {
     "data": {
      "text/html": [
       "<div>\n",
       "<style scoped>\n",
       "    .dataframe tbody tr th:only-of-type {\n",
       "        vertical-align: middle;\n",
       "    }\n",
       "\n",
       "    .dataframe tbody tr th {\n",
       "        vertical-align: top;\n",
       "    }\n",
       "\n",
       "    .dataframe thead th {\n",
       "        text-align: right;\n",
       "    }\n",
       "</style>\n",
       "<table border=\"1\" class=\"dataframe\">\n",
       "  <thead>\n",
       "    <tr style=\"text-align: right;\">\n",
       "      <th></th>\n",
       "      <th>SMILES</th>\n",
       "      <th>AIM_list</th>\n",
       "      <th>Chemotyper_list</th>\n",
       "      <th>Difference</th>\n",
       "    </tr>\n",
       "  </thead>\n",
       "  <tbody>\n",
       "    <tr>\n",
       "      <th>0</th>\n",
       "      <td>N1C(=O)NC(=O)C(F)=C1</td>\n",
       "      <td>[5, 10, 15, 43, 58, 172, 174, 176, 206, 210, 3C]</td>\n",
       "      <td>[210, 43, 58, 5, 174, 10, 15, 172, 176, 206]</td>\n",
       "      <td>[3C]</td>\n",
       "    </tr>\n",
       "    <tr>\n",
       "      <th>1</th>\n",
       "      <td>N(=O)(=O)c(ccc(O)c1N(=O)(=O))c1</td>\n",
       "      <td>[19, 23, 34, 13C]</td>\n",
       "      <td>[23, 13C, 19, 34]</td>\n",
       "      <td>[]</td>\n",
       "    </tr>\n",
       "    <tr>\n",
       "      <th>2</th>\n",
       "      <td>Clc1c(Cl)cc(C(O)CNC(C)C)cc1</td>\n",
       "      <td>[0, 1, 2, 7, 10, 19, 21, 214, 90C]</td>\n",
       "      <td>[7, 19, 1, 214, 21, 0, 90C, 10, 2]</td>\n",
       "      <td>[]</td>\n",
       "    </tr>\n",
       "    <tr>\n",
       "      <th>3</th>\n",
       "      <td>CN1C2CC(CC1C3OC23)OC(=O)C(CO)c4ccccc4</td>\n",
       "      <td>[0, 1, 2, 7, 8, 11, 19, 40, 171, 173, 174, 82C]</td>\n",
       "      <td>[40, 82C, 7, 11, 1, 19, 8, 0, 174, 173, 171, 2]</td>\n",
       "      <td>[]</td>\n",
       "    </tr>\n",
       "    <tr>\n",
       "      <th>4</th>\n",
       "      <td>O=C(O)C(NCC1O)C1</td>\n",
       "      <td>[1, 2, 7, 10, 35, 171, 174, 6C, 7C]</td>\n",
       "      <td>[6C, 7, 1, 35, 174, 10, 7C, 171, 2]</td>\n",
       "      <td>[]</td>\n",
       "    </tr>\n",
       "  </tbody>\n",
       "</table>\n",
       "</div>"
      ],
      "text/plain": [
       "                                  SMILES  \\\n",
       "0                   N1C(=O)NC(=O)C(F)=C1   \n",
       "1        N(=O)(=O)c(ccc(O)c1N(=O)(=O))c1   \n",
       "2            Clc1c(Cl)cc(C(O)CNC(C)C)cc1   \n",
       "3  CN1C2CC(CC1C3OC23)OC(=O)C(CO)c4ccccc4   \n",
       "4                       O=C(O)C(NCC1O)C1   \n",
       "\n",
       "                                           AIM_list  \\\n",
       "0  [5, 10, 15, 43, 58, 172, 174, 176, 206, 210, 3C]   \n",
       "1                                 [19, 23, 34, 13C]   \n",
       "2                [0, 1, 2, 7, 10, 19, 21, 214, 90C]   \n",
       "3   [0, 1, 2, 7, 8, 11, 19, 40, 171, 173, 174, 82C]   \n",
       "4               [1, 2, 7, 10, 35, 171, 174, 6C, 7C]   \n",
       "\n",
       "                                   Chemotyper_list Difference  \n",
       "0     [210, 43, 58, 5, 174, 10, 15, 172, 176, 206]       [3C]  \n",
       "1                                [23, 13C, 19, 34]         []  \n",
       "2               [7, 19, 1, 214, 21, 0, 90C, 10, 2]         []  \n",
       "3  [40, 82C, 7, 11, 1, 19, 8, 0, 174, 173, 171, 2]         []  \n",
       "4              [6C, 7, 1, 35, 174, 10, 7C, 171, 2]         []  "
      ]
     },
     "execution_count": 9,
     "metadata": {},
     "output_type": "execute_result"
    }
   ],
   "source": [
    "compare_new = make_df_diff(df,df_AIM_new)\n",
    "compare_new.head()"
   ]
  },
  {
   "cell_type": "code",
   "execution_count": 10,
   "id": "8caee040",
   "metadata": {},
   "outputs": [
    {
     "data": {
      "text/plain": [
       "(73179, 4)"
      ]
     },
     "execution_count": 10,
     "metadata": {},
     "output_type": "execute_result"
    }
   ],
   "source": [
    "compare_new.shape"
   ]
  },
  {
   "cell_type": "markdown",
   "id": "3d46bdac",
   "metadata": {},
   "source": [
    "## Evaluating the performance of the individual fragments\n",
    "\n",
    "Next we want to evaluate the performance of each individual fragment.\n",
    "\n",
    "To do so, we get the  TP, TN, FP, FN values of each fragment to calculate individual evaluation metrics\n",
    "\n",
    "------\n",
    "## Evaluation metrics:\n",
    "- Accuracy (TP + TN)/ (TP + FN + FP + TN)\n",
    "- Sensitivity (TP)/(TP + FN) True positive rate, recall\n",
    "- Specificity (TN) / (FP + TN) True negative rate\n",
    "- Precision (TP) / (TP + FP) Positive predictive value\n",
    "- Jaccard Similarity, TP / (TP + FN + FP)\n"
   ]
  },
  {
   "cell_type": "code",
   "execution_count": 11,
   "id": "d3611ccf",
   "metadata": {},
   "outputs": [],
   "source": [
    "import numpy as np\n",
    "def comparison_table(df):\n",
    "    df['Number_different'] = df['Difference'].apply(lambda x: len(x))\n",
    "    fragments = []\n",
    "    for row in df[\"AIM_list\"]:  #Possibly switch to Difference columns in case the CSRML matches with fragments that do not show up at all within the dataset for AIM\n",
    "        for fragment in row:\n",
    "            fragments.append(fragment)\n",
    "\n",
    "    fragments = list(set(fragments))\n",
    "    total_rows = df.shape[0]\n",
    "    diffs = []\n",
    "\n",
    "    for i in fragments:\n",
    "        selection = [i]\n",
    "        aim_mask = df['AIM_list'].apply(lambda x: any(item for item in selection if item in x))\n",
    "        df_aim = df[aim_mask]\n",
    "        chemo_mask = df['Chemotyper_list'].apply(lambda x: any(item for item in selection if item in x))\n",
    "        TP = df_aim[chemo_mask].shape[0]  #Both AIM and Chemo (TP)\n",
    "\n",
    "\n",
    "        err_mask = df['Difference'].apply(lambda x: any(item for item in selection if item in x))\n",
    "        df_diff = df[err_mask]  #Total number of errors (FN,FP)\n",
    "    \n",
    "        avg_err = np.round(df_diff.iloc[:,-1].mean(),2) #number of totalmismatches in structures which contain a mismatch with selection\n",
    "        diff_total = df_diff.shape[0]\n",
    "        chemo_mask = df_diff['Chemotyper_list'].apply(lambda x: any(item for item in selection if item in x))\n",
    "\n",
    "        FP = df_diff[chemo_mask].shape[0]\n",
    "        FN = diff_total - FP\n",
    "        TN = total_rows - (FP+FN+TP)\n",
    "        diffs.append([TP,FP,FN,TN,avg_err])\n",
    "\n",
    "\n",
    "    mismatch = df[df['Difference'].map(lambda d: len(d)) > 0]\n",
    "    full_match = round(1 -(len(mismatch)/len(df)),3)\n",
    "    print('Percent full match: ' + str(100*full_match) + '%')\n",
    "    df_diff = pd.DataFrame.from_dict(dict(zip(fragments,diffs))).T\n",
    "    df_diff = df_diff.rename(columns={df_diff.columns[0]:'TP',\n",
    "                                  df_diff.columns[1]:'FP',\n",
    "                                  df_diff.columns[2]:'FN',\n",
    "                                  df_diff.columns[3]:'TN',\n",
    "                                  df_diff.columns[4]:'Avg total mismatch'})\n",
    "    df_diff = df_diff.fillna(0)\n",
    "    df_diff[['TP','FP','FN','TN']] = df_diff[['TP','FP','FN','TN']].astype(int)\n",
    "    \n",
    "    df_diff['Accuracy (TP+TN)/Total'] = np.round(df_diff[['TP','TN']].sum(axis=1).div(df_diff[['TP','FN','FP','TN']].sum(axis=1)),3)\n",
    "    df_diff['Sensitivity (TP) / (TP+FN)'] = np.round(df_diff['TP'].div(df_diff[['TP','FN']].sum(axis=1)),3)\n",
    "    df_diff['Specificity (TN) / (FP+TN)'] = np.round(df_diff['TN'].div(df_diff[['FP','TN']].sum(axis=1)),3)\n",
    "    df_diff['Precision (TP) / (TP+FP)'] = np.round(df_diff['TP'].div(df_diff[['TP','FP']].sum(axis=1)),3)\n",
    "    df_diff['Jaccard (TP) / (TP+FP+FN)'] = np.round(df_diff['TP'].div(df_diff[['TP','FP','FN']].sum(axis=1)),3)\n",
    "\n",
    "    return df_diff"
   ]
  },
  {
   "cell_type": "code",
   "execution_count": 12,
   "id": "3b4374a9",
   "metadata": {},
   "outputs": [
    {
     "name": "stderr",
     "output_type": "stream",
     "text": [
      "<ipython-input-11-a81adf660d7d>:18: UserWarning: Boolean Series key will be reindexed to match DataFrame index.\n",
      "  TP = df_aim[chemo_mask].shape[0]  #Both AIM and Chemo (TP)\n"
     ]
    },
    {
     "name": "stdout",
     "output_type": "stream",
     "text": [
      "Percent full match: 74.3%\n"
     ]
    }
   ],
   "source": [
    "newest_version =  comparison_table(compare_new)"
   ]
  },
  {
   "cell_type": "code",
   "execution_count": 13,
   "id": "959c6eaf",
   "metadata": {},
   "outputs": [
    {
     "data": {
      "text/html": [
       "<div>\n",
       "<style scoped>\n",
       "    .dataframe tbody tr th:only-of-type {\n",
       "        vertical-align: middle;\n",
       "    }\n",
       "\n",
       "    .dataframe tbody tr th {\n",
       "        vertical-align: top;\n",
       "    }\n",
       "\n",
       "    .dataframe thead th {\n",
       "        text-align: right;\n",
       "    }\n",
       "</style>\n",
       "<table border=\"1\" class=\"dataframe\">\n",
       "  <thead>\n",
       "    <tr style=\"text-align: right;\">\n",
       "      <th></th>\n",
       "      <th>TP</th>\n",
       "      <th>FP</th>\n",
       "      <th>FN</th>\n",
       "      <th>TN</th>\n",
       "      <th>Avg total mismatch</th>\n",
       "      <th>Accuracy (TP+TN)/Total</th>\n",
       "      <th>Sensitivity (TP) / (TP+FN)</th>\n",
       "      <th>Specificity (TN) / (FP+TN)</th>\n",
       "      <th>Precision (TP) / (TP+FP)</th>\n",
       "      <th>Jaccard (TP) / (TP+FP+FN)</th>\n",
       "    </tr>\n",
       "  </thead>\n",
       "  <tbody>\n",
       "    <tr>\n",
       "      <th>169C</th>\n",
       "      <td>39</td>\n",
       "      <td>0</td>\n",
       "      <td>0</td>\n",
       "      <td>73140</td>\n",
       "      <td>0.00</td>\n",
       "      <td>1.000</td>\n",
       "      <td>1.000</td>\n",
       "      <td>1.0</td>\n",
       "      <td>1.000</td>\n",
       "      <td>1.000</td>\n",
       "    </tr>\n",
       "    <tr>\n",
       "      <th>7</th>\n",
       "      <td>12255</td>\n",
       "      <td>0</td>\n",
       "      <td>123</td>\n",
       "      <td>60801</td>\n",
       "      <td>2.59</td>\n",
       "      <td>0.998</td>\n",
       "      <td>0.990</td>\n",
       "      <td>1.0</td>\n",
       "      <td>1.000</td>\n",
       "      <td>0.990</td>\n",
       "    </tr>\n",
       "    <tr>\n",
       "      <th>39X</th>\n",
       "      <td>21</td>\n",
       "      <td>2</td>\n",
       "      <td>0</td>\n",
       "      <td>73156</td>\n",
       "      <td>2.00</td>\n",
       "      <td>1.000</td>\n",
       "      <td>1.000</td>\n",
       "      <td>1.0</td>\n",
       "      <td>0.913</td>\n",
       "      <td>0.913</td>\n",
       "    </tr>\n",
       "    <tr>\n",
       "      <th>48E</th>\n",
       "      <td>11</td>\n",
       "      <td>3</td>\n",
       "      <td>3</td>\n",
       "      <td>73162</td>\n",
       "      <td>2.33</td>\n",
       "      <td>1.000</td>\n",
       "      <td>0.786</td>\n",
       "      <td>1.0</td>\n",
       "      <td>0.786</td>\n",
       "      <td>0.647</td>\n",
       "    </tr>\n",
       "    <tr>\n",
       "      <th>204C</th>\n",
       "      <td>3</td>\n",
       "      <td>4</td>\n",
       "      <td>2</td>\n",
       "      <td>73170</td>\n",
       "      <td>2.00</td>\n",
       "      <td>1.000</td>\n",
       "      <td>0.600</td>\n",
       "      <td>1.0</td>\n",
       "      <td>0.429</td>\n",
       "      <td>0.333</td>\n",
       "    </tr>\n",
       "  </tbody>\n",
       "</table>\n",
       "</div>"
      ],
      "text/plain": [
       "         TP  FP   FN     TN  Avg total mismatch  Accuracy (TP+TN)/Total  \\\n",
       "169C     39   0    0  73140                0.00                   1.000   \n",
       "7     12255   0  123  60801                2.59                   0.998   \n",
       "39X      21   2    0  73156                2.00                   1.000   \n",
       "48E      11   3    3  73162                2.33                   1.000   \n",
       "204C      3   4    2  73170                2.00                   1.000   \n",
       "\n",
       "      Sensitivity (TP) / (TP+FN)  Specificity (TN) / (FP+TN)  \\\n",
       "169C                       1.000                         1.0   \n",
       "7                          0.990                         1.0   \n",
       "39X                        1.000                         1.0   \n",
       "48E                        0.786                         1.0   \n",
       "204C                       0.600                         1.0   \n",
       "\n",
       "      Precision (TP) / (TP+FP)  Jaccard (TP) / (TP+FP+FN)  \n",
       "169C                     1.000                      1.000  \n",
       "7                        1.000                      0.990  \n",
       "39X                      0.913                      0.913  \n",
       "48E                      0.786                      0.647  \n",
       "204C                     0.429                      0.333  "
      ]
     },
     "execution_count": 13,
     "metadata": {},
     "output_type": "execute_result"
    }
   ],
   "source": [
    "newest_version.head()"
   ]
  },
  {
   "cell_type": "code",
   "execution_count": 14,
   "id": "09d161ba",
   "metadata": {},
   "outputs": [
    {
     "data": {
      "text/plain": [
       "Index(['169C', '7', '39X', '48E', '204C', '44X', '231C', '16', '61X', '15X',\n",
       "       ...\n",
       "       '155C', '53', '80', '94C', '29', '46', '348C', '57E', '166C', '19X'],\n",
       "      dtype='object', length=750)"
      ]
     },
     "execution_count": 14,
     "metadata": {},
     "output_type": "execute_result"
    }
   ],
   "source": [
    "newest_version.index"
   ]
  },
  {
   "cell_type": "code",
   "execution_count": 15,
   "id": "e13a55d9",
   "metadata": {},
   "outputs": [
    {
     "data": {
      "text/plain": [
       "TP                              833.684000\n",
       "FP                               16.180000\n",
       "FN                               18.222667\n",
       "TN                            72310.913333\n",
       "Avg total mismatch                1.824840\n",
       "Accuracy (TP+TN)/Total            0.999577\n",
       "Sensitivity (TP) / (TP+FN)        0.895613\n",
       "Specificity (TN) / (FP+TN)        0.999793\n",
       "Precision (TP) / (TP+FP)          0.906284\n",
       "Jaccard (TP) / (TP+FP+FN)         0.822136\n",
       "dtype: float64"
      ]
     },
     "execution_count": 15,
     "metadata": {},
     "output_type": "execute_result"
    }
   ],
   "source": [
    "newest_version.mean()"
   ]
  },
  {
   "cell_type": "markdown",
   "id": "3346ae57",
   "metadata": {},
   "source": [
    "## Plot Distribution of our Fragments:\n",
    "\n",
    "We can see how some fragments are responsible for lower performance\n"
   ]
  },
  {
   "cell_type": "code",
   "execution_count": 21,
   "id": "6d09b166",
   "metadata": {},
   "outputs": [],
   "source": [
    "import matplotlib.pyplot as plt\n",
    "def plot_hist(df, filename):\n",
    "    X = df['Jaccard (TP) / (TP+FP+FN)']\n",
    "    fig,ax1 = plt.subplots(ncols=1)\n",
    "    #print(X)\n",
    "    fig.set_size_inches(6, 4)\n",
    "    \n",
    "    #plt.xlim([0,1.1])\n",
    "    values, base = np.histogram(X,bins=10)\n",
    "    cumulative=np.cumsum(values)\n",
    "    cumulative = np.insert(cumulative,0,0)\n",
    "    \n",
    "    cdf = cumulative / sum(values)\n",
    "    n,bins,patches = ax1.hist(X,bins=10,range=(0,1),linewidth=1,edgecolor='black')\n",
    "    #ax1.set_title('AIM Translation Evaluation',fontsize=24)\n",
    "    ax1.set_ylabel('Frequency',fontsize=18)\n",
    "    #ax1.set_xlim(0,1.2)\n",
    "    ax1.set_xlabel('Jaccard similarity',fontsize=18)\n",
    "    ax2 = ax1.twinx()\n",
    "    ax2.plot(base,cdf,c='orange')\n",
    "    ax2.set_ylim(0,1)\n",
    "    ax2.set_ylabel('CDF',fontsize=18)\n",
    "    plt.savefig(figures_dir+filename, bbox_inches='tight', dpi=300)"
   ]
  },
  {
   "cell_type": "code",
   "execution_count": 22,
   "id": "216a9238",
   "metadata": {},
   "outputs": [
    {
     "data": {
      "image/png": "[encoded data removed]",
      "text/plain": [
       "<Figure size 432x288 with 2 Axes>"
      ]
     },
     "metadata": {
      "needs_background": "light"
     },
     "output_type": "display_data"
    }
   ],
   "source": [
    "plot_hist(newest_version, 'Figure2')"
   ]
  },
  {
   "cell_type": "code",
   "execution_count": 23,
   "id": "3ee80a03",
   "metadata": {},
   "outputs": [],
   "source": [
    "df_AIM_old = make_df(raw_dir+'AIM_V0_vs_AIMdb_full_list_collab.tsv')"
   ]
  },
  {
   "cell_type": "code",
   "execution_count": 24,
   "id": "25b23ae9",
   "metadata": {},
   "outputs": [],
   "source": [
    "compare_old = make_df_diff(df,df_AIM_old)"
   ]
  },
  {
   "cell_type": "code",
   "execution_count": 25,
   "id": "1b566f9b",
   "metadata": {},
   "outputs": [
    {
     "name": "stderr",
     "output_type": "stream",
     "text": [
      "<ipython-input-11-a81adf660d7d>:18: UserWarning: Boolean Series key will be reindexed to match DataFrame index.\n",
      "  TP = df_aim[chemo_mask].shape[0]  #Both AIM and Chemo (TP)\n"
     ]
    },
    {
     "name": "stdout",
     "output_type": "stream",
     "text": [
      "Percent full match: 0.0%\n"
     ]
    }
   ],
   "source": [
    "oldest_version  =  comparison_table(compare_old)"
   ]
  },
  {
   "cell_type": "code",
   "execution_count": 26,
   "id": "711c7e0c",
   "metadata": {},
   "outputs": [
    {
     "data": {
      "text/plain": [
       "(750, 10)"
      ]
     },
     "execution_count": 26,
     "metadata": {},
     "output_type": "execute_result"
    }
   ],
   "source": [
    "oldest_version.shape"
   ]
  },
  {
   "cell_type": "code",
   "execution_count": 27,
   "id": "ab9e1381",
   "metadata": {},
   "outputs": [
    {
     "data": {
      "text/plain": [
       "TP                              561.132000\n",
       "FP                              330.230667\n",
       "FN                              290.774667\n",
       "TN                            71996.862667\n",
       "Avg total mismatch                9.728147\n",
       "Accuracy (TP+TN)/Total            0.991560\n",
       "Sensitivity (TP) / (TP+FN)        0.361087\n",
       "Specificity (TN) / (FP+TN)        0.995269\n",
       "Precision (TP) / (TP+FP)          0.560671\n",
       "Jaccard (TP) / (TP+FP+FN)         0.270609\n",
       "dtype: float64"
      ]
     },
     "execution_count": 27,
     "metadata": {},
     "output_type": "execute_result"
    }
   ],
   "source": [
    "oldest_version.mean()"
   ]
  },
  {
   "cell_type": "code",
   "execution_count": 28,
   "id": "0019a0ba",
   "metadata": {},
   "outputs": [
    {
     "data": {
      "image/png": "[encoded data removed]",
      "text/plain": [
       "<Figure size 432x288 with 2 Axes>"
      ]
     },
     "metadata": {
      "needs_background": "light"
     },
     "output_type": "display_data"
    }
   ],
   "source": [
    "oldest_version['Jaccard (TP) / (TP+FP+FN)'] = np.round(oldest_version['TP'].div(oldest_version[['TP','FP','FN']].sum(axis=1)),3)\n",
    "\n",
    "plot_hist(oldest_version, 'Figure 2_oldAIM.png')"
   ]
  },
  {
   "cell_type": "markdown",
   "id": "a48556b8",
   "metadata": {},
   "source": [
    "#### Reconciling the numbers of original AIM fragments depending on source - AIM database or ChemACE Appendix"
   ]
  },
  {
   "cell_type": "markdown",
   "id": "a7752889",
   "metadata": {},
   "source": [
    "Counts of Appendix fragments"
   ]
  },
  {
   "cell_type": "code",
   "execution_count": 29,
   "id": "6791f21f",
   "metadata": {},
   "outputs": [],
   "source": [
    "orig_appendix = pd.read_excel(raw_dir+'AppendixB_AIM_465_fragments_v060718.xlsx', sheet_name = 'AppendixA_Original')"
   ]
  },
  {
   "cell_type": "code",
   "execution_count": 30,
   "id": "30bca833",
   "metadata": {},
   "outputs": [],
   "source": [
    "orig_appendix = orig_appendix[orig_appendix['Number'].notnull()]"
   ]
  },
  {
   "cell_type": "code",
   "execution_count": 31,
   "id": "23181340",
   "metadata": {},
   "outputs": [],
   "source": [
    "orig_appendix2 = orig_appendix[orig_appendix['Fragment'].notnull()]"
   ]
  },
  {
   "cell_type": "code",
   "execution_count": 32,
   "id": "5b8530f0",
   "metadata": {},
   "outputs": [
    {
     "data": {
      "text/plain": [
       "787"
      ]
     },
     "execution_count": 32,
     "metadata": {},
     "output_type": "execute_result"
    }
   ],
   "source": [
    "orig_appendix2['Fragment'].nunique()"
   ]
  },
  {
   "cell_type": "code",
   "execution_count": 33,
   "id": "67ada453",
   "metadata": {},
   "outputs": [
    {
     "data": {
      "text/plain": [
       "0         0\n",
       "1         1\n",
       "2         2\n",
       "3         3\n",
       "4         4\n",
       "       ... \n",
       "826     99X\n",
       "827    100X\n",
       "828    101X\n",
       "829    102X\n",
       "830    103X\n",
       "Name: Number, Length: 831, dtype: object"
      ]
     },
     "execution_count": 33,
     "metadata": {},
     "output_type": "execute_result"
    }
   ],
   "source": [
    "orig_appendix['Number']"
   ]
  },
  {
   "cell_type": "markdown",
   "id": "752d2acb",
   "metadata": {},
   "source": [
    "Original database"
   ]
  },
  {
   "cell_type": "code",
   "execution_count": 34,
   "id": "9f04d5aa",
   "metadata": {},
   "outputs": [],
   "source": [
    "aim_db = pd.read_csv(raw_dir+'aimdb.tsv', sep = '\\t', header = None)"
   ]
  },
  {
   "cell_type": "code",
   "execution_count": 35,
   "id": "00bdff10",
   "metadata": {},
   "outputs": [],
   "source": [
    "aim_db.columns = ['smiles', 'cas', 'mw', 'fragment', 'fragment_list']"
   ]
  },
  {
   "cell_type": "code",
   "execution_count": 36,
   "id": "8916a738",
   "metadata": {},
   "outputs": [
    {
     "data": {
      "text/plain": [
       "(86200, 5)"
      ]
     },
     "execution_count": 36,
     "metadata": {},
     "output_type": "execute_result"
    }
   ],
   "source": [
    "aim_db.shape"
   ]
  },
  {
   "cell_type": "code",
   "execution_count": 37,
   "id": "925e37dc",
   "metadata": {},
   "outputs": [],
   "source": [
    "aim_ids = [e.split(',') for e in aim_db['fragment_list'] ]"
   ]
  },
  {
   "cell_type": "code",
   "execution_count": 38,
   "id": "0c7f568d",
   "metadata": {},
   "outputs": [],
   "source": [
    "aim_ids = [i for e in aim_ids for i in e]"
   ]
  },
  {
   "cell_type": "code",
   "execution_count": 39,
   "id": "ada87607",
   "metadata": {},
   "outputs": [],
   "source": [
    "unique_aim = list(set(aim_ids))"
   ]
  },
  {
   "cell_type": "code",
   "execution_count": 40,
   "id": "c88f35e3",
   "metadata": {},
   "outputs": [
    {
     "name": "stdout",
     "output_type": "stream",
     "text": [
      "There were 767 unique fragments in the AIM database\n"
     ]
    }
   ],
   "source": [
    "print('There were {} unique fragments in the AIM database'.format(len(unique_aim)))"
   ]
  },
  {
   "cell_type": "code",
   "execution_count": 41,
   "id": "ff7043fb",
   "metadata": {},
   "outputs": [
    {
     "data": {
      "text/plain": [
       "758"
      ]
     },
     "execution_count": 41,
     "metadata": {},
     "output_type": "execute_result"
    }
   ],
   "source": [
    "len([e for e in orig_appendix2['Number'].astype(str) if e  in unique_aim ])"
   ]
  },
  {
   "cell_type": "code",
   "execution_count": 42,
   "id": "a61f719e",
   "metadata": {},
   "outputs": [
    {
     "data": {
      "text/plain": [
       "['0', '0C', '0E', '0X', '1', '10', '100', '100C', '100X', '101']"
      ]
     },
     "execution_count": 42,
     "metadata": {},
     "output_type": "execute_result"
    }
   ],
   "source": [
    "sorted(orig_appendix2['Number'].astype(str))[0:10]"
   ]
  },
  {
   "cell_type": "code",
   "execution_count": 43,
   "id": "c9d5c363",
   "metadata": {},
   "outputs": [
    {
     "data": {
      "text/plain": [
       "['0', '0C', '0E', '0X', '1', '10', '100', '100C', '100X', '101']"
      ]
     },
     "execution_count": 43,
     "metadata": {},
     "output_type": "execute_result"
    }
   ],
   "source": [
    "sorted(unique_aim)[0:10]"
   ]
  },
  {
   "cell_type": "code",
   "execution_count": null,
   "id": "35791569",
   "metadata": {},
   "outputs": [],
   "source": []
  }
 ],
 "metadata": {
  "kernelspec": {
   "display_name": "matt_env",
   "language": "python",
   "name": "matt_env"
  },
  "language_info": {
   "codemirror_mode": {
    "name": "ipython",
    "version": 3
   },
   "file_extension": ".py",
   "mimetype": "text/x-python",
   "name": "python",
   "nbconvert_exporter": "python",
   "pygments_lexer": "ipython3",
   "version": "3.10.4"
  }
 },
 "nbformat": 4,
 "nbformat_minor": 5
}
