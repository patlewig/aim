{
 "cells": [
  {
   "cell_type": "markdown",
   "metadata": {},
   "source": [
    "## Benchmark AIM\n",
    "\n",
    "Evaluate the newly developed CSRML version of AIM by using the original database as reference fingerprints. Only using the first 5000 sample to reduce computational time by the chemotyper. Allowed for further refinement of the chemotype file before comparing it to the entire old database.\n",
    "\n",
    "#### QAPP ID: I-CCED-0032994-QP-1-0\n",
    "#### Author: Matthew Adams\n",
    "#### Principal Investigator: Grace Patlewicz\n",
    "#### Last Modified May 05 2022"
   ]
  },
  {
   "cell_type": "code",
   "execution_count": 1,
   "metadata": {},
   "outputs": [],
   "source": [
    "from datetime import date\n",
    "import pandas as pd\n",
    "import numpy as np\n",
    "import matplotlib.pyplot as plt\n",
    "\n",
    "today = date.today()\n",
    "day = today.strftime(\"%m_%d_%y\")\n",
    "plt.style.use('ggplot')\n"
   ]
  },
  {
   "cell_type": "code",
   "execution_count": 2,
   "metadata": {},
   "outputs": [],
   "source": [
    "import os\n",
    "import openpyxl\n",
    "%matplotlib inline"
   ]
  },
  {
   "cell_type": "code",
   "execution_count": 3,
   "metadata": {},
   "outputs": [],
   "source": [
    "TOP = os.getcwd().replace('notebooks', '')\n",
    "raw_dir = TOP + 'data/raw/'\n",
    "interim_dir = TOP + 'data/interim/'\n",
    "processed_dir = TOP + 'data/processed/'\n",
    "external_dir = TOP + 'data/external/'\n",
    "figures_dir = TOP + 'reports/figures/'\n",
    "refs_dir = TOP + 'references/'"
   ]
  },
  {
   "cell_type": "code",
   "execution_count": 4,
   "metadata": {},
   "outputs": [],
   "source": [
    "orig_appendix = pd.read_excel(raw_dir+'AppendixB_AIM_465_fragments_v060718.xlsx', sheet_name = 'AppendixA_Original')"
   ]
  },
  {
   "cell_type": "markdown",
   "metadata": {},
   "source": [
    "#### There are 831 rows nominally representing different fragments"
   ]
  },
  {
   "cell_type": "code",
   "execution_count": 5,
   "metadata": {},
   "outputs": [
    {
     "data": {
      "text/plain": [
       "(831, 3)"
      ]
     },
     "execution_count": 5,
     "metadata": {},
     "output_type": "execute_result"
    }
   ],
   "source": [
    "orig_appendix = orig_appendix.iloc[:831,:3]\n",
    "orig_appendix.shape"
   ]
  },
  {
   "cell_type": "markdown",
   "metadata": {},
   "source": [
    "#### Six of these are null - so a fragment ID tag but no associated fragment"
   ]
  },
  {
   "cell_type": "code",
   "execution_count": 6,
   "metadata": {},
   "outputs": [
    {
     "data": {
      "text/plain": [
       "(6, 3)"
      ]
     },
     "execution_count": 6,
     "metadata": {},
     "output_type": "execute_result"
    }
   ],
   "source": [
    "orig_appendix[orig_appendix['Fragment'].isnull()].shape"
   ]
  },
  {
   "cell_type": "code",
   "execution_count": 7,
   "metadata": {},
   "outputs": [
    {
     "name": "stdout",
     "output_type": "stream",
     "text": [
      "<class 'pandas.core.frame.DataFrame'>\n",
      "RangeIndex: 831 entries, 0 to 830\n",
      "Data columns (total 3 columns):\n",
      " #   Column         Non-Null Count  Dtype \n",
      "---  ------         --------------  ----- \n",
      " 0   Fragment       825 non-null    object\n",
      " 1   Number         831 non-null    object\n",
      " 2   Modified Name  120 non-null    object\n",
      "dtypes: object(3)\n",
      "memory usage: 19.6+ KB\n"
     ]
    }
   ],
   "source": [
    "orig_appendix.info()"
   ]
  },
  {
   "cell_type": "code",
   "execution_count": 8,
   "metadata": {},
   "outputs": [
    {
     "data": {
      "text/plain": [
       "True"
      ]
     },
     "execution_count": 8,
     "metadata": {},
     "output_type": "execute_result"
    }
   ],
   "source": [
    "[e for e in orig_appendix['Fragment'].replace(np.nan, 'missing') if \"Au\" in e][3] == [e for e in orig_appendix['Fragment'].replace(np.nan, 'missing') if \"Au\" in e][0]"
   ]
  },
  {
   "cell_type": "code",
   "execution_count": 9,
   "metadata": {},
   "outputs": [],
   "source": [
    "orig_appendix['Fragment'] = orig_appendix['Fragment'].replace(np.nan, 'missing')"
   ]
  },
  {
   "cell_type": "code",
   "execution_count": 23,
   "metadata": {},
   "outputs": [],
   "source": [
    "orig_ids = set(orig_appendix[orig_appendix['Fragment'] != 'missing']['Number'].tolist())"
   ]
  },
  {
   "cell_type": "code",
   "execution_count": 24,
   "metadata": {},
   "outputs": [
    {
     "data": {
      "text/plain": [
       "825"
      ]
     },
     "execution_count": 24,
     "metadata": {},
     "output_type": "execute_result"
    }
   ],
   "source": [
    "len(orig_ids)"
   ]
  },
  {
   "cell_type": "code",
   "execution_count": null,
   "metadata": {},
   "outputs": [],
   "source": [
    "orig_"
   ]
  },
  {
   "cell_type": "code",
   "execution_count": 20,
   "metadata": {},
   "outputs": [
    {
     "data": {
      "text/plain": [
       "787"
      ]
     },
     "execution_count": 20,
     "metadata": {},
     "output_type": "execute_result"
    }
   ],
   "source": [
    "len([e for e in list(set(orig_appendix['Fragment'])) if \"missing\" not in e])"
   ]
  },
  {
   "cell_type": "markdown",
   "metadata": {},
   "source": [
    "## Load Mapped AIMDB File (Contains DTXSID)"
   ]
  },
  {
   "cell_type": "code",
   "execution_count": 45,
   "metadata": {
    "id": "8Fj4zet_w7mL"
   },
   "outputs": [
    {
     "name": "stdout",
     "output_type": "stream",
     "text": [
      "(86198, 2)\n"
     ]
    },
    {
     "data": {
      "text/html": [
       "<div>\n",
       "<style scoped>\n",
       "    .dataframe tbody tr th:only-of-type {\n",
       "        vertical-align: middle;\n",
       "    }\n",
       "\n",
       "    .dataframe tbody tr th {\n",
       "        vertical-align: top;\n",
       "    }\n",
       "\n",
       "    .dataframe thead th {\n",
       "        text-align: right;\n",
       "    }\n",
       "</style>\n",
       "<table border=\"1\" class=\"dataframe\">\n",
       "  <thead>\n",
       "    <tr style=\"text-align: right;\">\n",
       "      <th></th>\n",
       "      <th>CASRN</th>\n",
       "      <th>DTXSID</th>\n",
       "    </tr>\n",
       "  </thead>\n",
       "  <tbody>\n",
       "    <tr>\n",
       "      <th>0</th>\n",
       "      <td>51218</td>\n",
       "      <td>DTXSID2020634</td>\n",
       "    </tr>\n",
       "    <tr>\n",
       "      <th>1</th>\n",
       "      <td>51285</td>\n",
       "      <td>DTXSID0020523</td>\n",
       "    </tr>\n",
       "    <tr>\n",
       "      <th>2</th>\n",
       "      <td>51296</td>\n",
       "      <td>DTXSID401018909</td>\n",
       "    </tr>\n",
       "    <tr>\n",
       "      <th>3</th>\n",
       "      <td>51309</td>\n",
       "      <td>DTXSID6025486</td>\n",
       "    </tr>\n",
       "    <tr>\n",
       "      <th>4</th>\n",
       "      <td>51343</td>\n",
       "      <td>DTXSID6023573</td>\n",
       "    </tr>\n",
       "  </tbody>\n",
       "</table>\n",
       "</div>"
      ],
      "text/plain": [
       "   CASRN           DTXSID\n",
       "0  51218    DTXSID2020634\n",
       "1  51285    DTXSID0020523\n",
       "2  51296  DTXSID401018909\n",
       "3  51309    DTXSID6025486\n",
       "4  51343    DTXSID6023573"
      ]
     },
     "execution_count": 45,
     "metadata": {},
     "output_type": "execute_result"
    }
   ],
   "source": [
    "\n",
    "\n",
    "df_mapped = pd.read_excel(raw_dir+'AIM_map-to-dsstox.xlsx')\n",
    "df_mapped = df_mapped[['INPUT','DTXSID']]\n",
    "df_mapped = df_mapped.rename(columns={'INPUT':'CASRN'})\n",
    "df_mapped['CASRN'] = df_mapped['CASRN'].astype(str)\n",
    "df_mapped = df_mapped.drop_duplicates(subset=['CASRN'])\n",
    "print(df_mapped.shape)\n",
    "df_mapped.head()"
   ]
  },
  {
   "cell_type": "markdown",
   "metadata": {},
   "source": [
    "## Load Original AIMDB File"
   ]
  },
  {
   "cell_type": "code",
   "execution_count": 46,
   "metadata": {
    "colab": {
     "base_uri": "https://localhost:8080/",
     "height": 945
    },
    "id": "l9GoBOWiw-5j",
    "outputId": "32de0ed4-fa47-4d29-a506-e946a120b5ce"
   },
   "outputs": [
    {
     "name": "stdout",
     "output_type": "stream",
     "text": [
      "(83277, 3)\n"
     ]
    },
    {
     "data": {
      "text/html": [
       "<div>\n",
       "<style scoped>\n",
       "    .dataframe tbody tr th:only-of-type {\n",
       "        vertical-align: middle;\n",
       "    }\n",
       "\n",
       "    .dataframe tbody tr th {\n",
       "        vertical-align: top;\n",
       "    }\n",
       "\n",
       "    .dataframe thead th {\n",
       "        text-align: right;\n",
       "    }\n",
       "</style>\n",
       "<table border=\"1\" class=\"dataframe\">\n",
       "  <thead>\n",
       "    <tr style=\"text-align: right;\">\n",
       "      <th></th>\n",
       "      <th>SMILES</th>\n",
       "      <th>CASRN</th>\n",
       "      <th>AIM_list</th>\n",
       "    </tr>\n",
       "  </thead>\n",
       "  <tbody>\n",
       "    <tr>\n",
       "      <th>0</th>\n",
       "      <td>N1C(=O)NC(=O)C(F)=C1</td>\n",
       "      <td>51218</td>\n",
       "      <td>[5, 10, 15, 43, 58, 172, 174, 176, 206, 210, 3C]</td>\n",
       "    </tr>\n",
       "    <tr>\n",
       "      <th>1</th>\n",
       "      <td>N(=O)(=O)c(ccc(O)c1N(=O)(=O))c1</td>\n",
       "      <td>51285</td>\n",
       "      <td>[19, 23, 34, 13C]</td>\n",
       "    </tr>\n",
       "    <tr>\n",
       "      <th>2</th>\n",
       "      <td>Clc1c(Cl)cc(C(O)CNC(C)C)cc1</td>\n",
       "      <td>51296</td>\n",
       "      <td>[0, 1, 2, 7, 10, 19, 21, 214, 90C]</td>\n",
       "    </tr>\n",
       "    <tr>\n",
       "      <th>3</th>\n",
       "      <td>c1cc(O)c(O)cc1C(O)CN(Cl)([H])([H])C(C)C</td>\n",
       "      <td>51309</td>\n",
       "      <td>[0, 1, 2, 7, 19, 23, 107, 127, 214]</td>\n",
       "    </tr>\n",
       "    <tr>\n",
       "      <th>4</th>\n",
       "      <td>CN1C2CC(CC1C3OC23)OC(=O)C(CO)c4ccccc4</td>\n",
       "      <td>51343</td>\n",
       "      <td>[0, 1, 2, 7, 8, 11, 19, 40, 171, 173, 174, 82C]</td>\n",
       "    </tr>\n",
       "  </tbody>\n",
       "</table>\n",
       "</div>"
      ],
      "text/plain": [
       "                                    SMILES  CASRN  \\\n",
       "0                     N1C(=O)NC(=O)C(F)=C1  51218   \n",
       "1          N(=O)(=O)c(ccc(O)c1N(=O)(=O))c1  51285   \n",
       "2              Clc1c(Cl)cc(C(O)CNC(C)C)cc1  51296   \n",
       "3  c1cc(O)c(O)cc1C(O)CN(Cl)([H])([H])C(C)C  51309   \n",
       "4    CN1C2CC(CC1C3OC23)OC(=O)C(CO)c4ccccc4  51343   \n",
       "\n",
       "                                           AIM_list  \n",
       "0  [5, 10, 15, 43, 58, 172, 174, 176, 206, 210, 3C]  \n",
       "1                                 [19, 23, 34, 13C]  \n",
       "2                [0, 1, 2, 7, 10, 19, 21, 214, 90C]  \n",
       "3               [0, 1, 2, 7, 19, 23, 107, 127, 214]  \n",
       "4   [0, 1, 2, 7, 8, 11, 19, 40, 171, 173, 174, 82C]  "
      ]
     },
     "execution_count": 46,
     "metadata": {},
     "output_type": "execute_result"
    }
   ],
   "source": [
    "df = pd.read_csv(raw_dir+\"aimdb.tsv\", sep='\\t', names = ['SMILES', 'CASRN', 'othwer', 'other', 'AIM Fragments'])\n",
    "df['AIM_list'] = df['AIM Fragments'].apply(lambda x: x.split(','))\n",
    "df = df[['SMILES','CASRN','AIM_list']]\n",
    "df = df.drop_duplicates(subset=['SMILES'])\n",
    "print(df.shape)\n",
    "df.head()"
   ]
  },
  {
   "cell_type": "markdown",
   "metadata": {},
   "source": [
    "#### Number of unique AIM IDs"
   ]
  },
  {
   "cell_type": "code",
   "execution_count": 48,
   "metadata": {},
   "outputs": [
    {
     "data": {
      "text/plain": [
       "767"
      ]
     },
     "execution_count": 48,
     "metadata": {},
     "output_type": "execute_result"
    }
   ],
   "source": [
    "len(set([e for e in df['AIM_list'] for e in e]))"
   ]
  },
  {
   "cell_type": "markdown",
   "metadata": {},
   "source": [
    "#### Comparing fragment IDs from both the database and the original Appendix"
   ]
  },
  {
   "cell_type": "code",
   "execution_count": 63,
   "metadata": {},
   "outputs": [],
   "source": [
    "aim_df_ids = set([e for e in df['AIM_list'] for e in e])"
   ]
  },
  {
   "cell_type": "code",
   "execution_count": 67,
   "metadata": {},
   "outputs": [],
   "source": [
    "from matplotlib_venn import venn2"
   ]
  },
  {
   "cell_type": "code",
   "execution_count": 68,
   "metadata": {},
   "outputs": [
    {
     "data": {
      "image/png": "[encoded data removed]",
      "text/plain": [
       "<Figure size 1080x720 with 1 Axes>"
      ]
     },
     "metadata": {},
     "output_type": "display_data"
    }
   ],
   "source": [
    "plt.style.use('ggplot')\n",
    "plt.figure(figsize=(15,10))\n",
    "v = venn2([aim_df_ids, orig_ids], ('AIM_DB', 'APPENDIX'))"
   ]
  },
  {
   "cell_type": "code",
   "execution_count": 69,
   "metadata": {},
   "outputs": [
    {
     "data": {
      "text/plain": [
       "825"
      ]
     },
     "execution_count": 69,
     "metadata": {},
     "output_type": "execute_result"
    }
   ],
   "source": [
    "568+257"
   ]
  },
  {
   "cell_type": "code",
   "execution_count": 70,
   "metadata": {},
   "outputs": [
    {
     "data": {
      "text/plain": [
       "767"
      ]
     },
     "execution_count": 70,
     "metadata": {},
     "output_type": "execute_result"
    }
   ],
   "source": [
    "199+568"
   ]
  },
  {
   "cell_type": "markdown",
   "metadata": {},
   "source": [
    "## Join two dataframes together into new dataframe\n",
    "\n"
   ]
  },
  {
   "cell_type": "code",
   "execution_count": 71,
   "metadata": {},
   "outputs": [
    {
     "name": "stdout",
     "output_type": "stream",
     "text": [
      "(83276, 4)\n"
     ]
    },
    {
     "data": {
      "text/html": [
       "<div>\n",
       "<style scoped>\n",
       "    .dataframe tbody tr th:only-of-type {\n",
       "        vertical-align: middle;\n",
       "    }\n",
       "\n",
       "    .dataframe tbody tr th {\n",
       "        vertical-align: top;\n",
       "    }\n",
       "\n",
       "    .dataframe thead th {\n",
       "        text-align: right;\n",
       "    }\n",
       "</style>\n",
       "<table border=\"1\" class=\"dataframe\">\n",
       "  <thead>\n",
       "    <tr style=\"text-align: right;\">\n",
       "      <th></th>\n",
       "      <th>DTXSID</th>\n",
       "      <th>CASRN</th>\n",
       "      <th>SMILES</th>\n",
       "      <th>AIM_list</th>\n",
       "    </tr>\n",
       "  </thead>\n",
       "  <tbody>\n",
       "    <tr>\n",
       "      <th>0</th>\n",
       "      <td>DTXSID2020634</td>\n",
       "      <td>51218</td>\n",
       "      <td>N1C(=O)NC(=O)C(F)=C1</td>\n",
       "      <td>[5, 10, 15, 43, 58, 172, 174, 176, 206, 210, 3C]</td>\n",
       "    </tr>\n",
       "    <tr>\n",
       "      <th>1</th>\n",
       "      <td>DTXSID0020523</td>\n",
       "      <td>51285</td>\n",
       "      <td>N(=O)(=O)c(ccc(O)c1N(=O)(=O))c1</td>\n",
       "      <td>[19, 23, 34, 13C]</td>\n",
       "    </tr>\n",
       "    <tr>\n",
       "      <th>2</th>\n",
       "      <td>DTXSID401018909</td>\n",
       "      <td>51296</td>\n",
       "      <td>Clc1c(Cl)cc(C(O)CNC(C)C)cc1</td>\n",
       "      <td>[0, 1, 2, 7, 10, 19, 21, 214, 90C]</td>\n",
       "    </tr>\n",
       "    <tr>\n",
       "      <th>3</th>\n",
       "      <td>DTXSID6025486</td>\n",
       "      <td>51309</td>\n",
       "      <td>c1cc(O)c(O)cc1C(O)CN(Cl)([H])([H])C(C)C</td>\n",
       "      <td>[0, 1, 2, 7, 19, 23, 107, 127, 214]</td>\n",
       "    </tr>\n",
       "    <tr>\n",
       "      <th>4</th>\n",
       "      <td>DTXSID6023573</td>\n",
       "      <td>51343</td>\n",
       "      <td>CN1C2CC(CC1C3OC23)OC(=O)C(CO)c4ccccc4</td>\n",
       "      <td>[0, 1, 2, 7, 8, 11, 19, 40, 171, 173, 174, 82C]</td>\n",
       "    </tr>\n",
       "  </tbody>\n",
       "</table>\n",
       "</div>"
      ],
      "text/plain": [
       "            DTXSID  CASRN                                   SMILES  \\\n",
       "0    DTXSID2020634  51218                     N1C(=O)NC(=O)C(F)=C1   \n",
       "1    DTXSID0020523  51285          N(=O)(=O)c(ccc(O)c1N(=O)(=O))c1   \n",
       "2  DTXSID401018909  51296              Clc1c(Cl)cc(C(O)CNC(C)C)cc1   \n",
       "3    DTXSID6025486  51309  c1cc(O)c(O)cc1C(O)CN(Cl)([H])([H])C(C)C   \n",
       "4    DTXSID6023573  51343    CN1C2CC(CC1C3OC23)OC(=O)C(CO)c4ccccc4   \n",
       "\n",
       "                                           AIM_list  \n",
       "0  [5, 10, 15, 43, 58, 172, 174, 176, 206, 210, 3C]  \n",
       "1                                 [19, 23, 34, 13C]  \n",
       "2                [0, 1, 2, 7, 10, 19, 21, 214, 90C]  \n",
       "3               [0, 1, 2, 7, 19, 23, 107, 127, 214]  \n",
       "4   [0, 1, 2, 7, 8, 11, 19, 40, 171, 173, 174, 82C]  "
      ]
     },
     "execution_count": 71,
     "metadata": {},
     "output_type": "execute_result"
    }
   ],
   "source": [
    "df_aimdb_dtx = pd.merge(df,df_mapped,on='CASRN',how='inner')\n",
    "df_aimdb_dtx = df_aimdb_dtx[['DTXSID','CASRN','SMILES','AIM_list']]\n",
    "\n",
    "print(df_aimdb_dtx.shape)\n",
    "df_aimdb_dtx.head()"
   ]
  },
  {
   "cell_type": "markdown",
   "metadata": {},
   "source": [
    "## Load Chemotyper Fingerprint file\n",
    "\n",
    "This fingerprint file was generated using the Chemotyper program\n",
    "\n",
    " Inputs: AIM CSRML File (.xml) , AIMdb SDF File (.sdf)\n",
    " \n",
    " Output: fingerprint file (.tsv)"
   ]
  },
  {
   "cell_type": "code",
   "execution_count": 72,
   "metadata": {},
   "outputs": [
    {
     "name": "stdout",
     "output_type": "stream",
     "text": [
      "(65081, 2)\n"
     ]
    },
    {
     "data": {
      "text/html": [
       "<div>\n",
       "<style scoped>\n",
       "    .dataframe tbody tr th:only-of-type {\n",
       "        vertical-align: middle;\n",
       "    }\n",
       "\n",
       "    .dataframe tbody tr th {\n",
       "        vertical-align: top;\n",
       "    }\n",
       "\n",
       "    .dataframe thead th {\n",
       "        text-align: right;\n",
       "    }\n",
       "</style>\n",
       "<table border=\"1\" class=\"dataframe\">\n",
       "  <thead>\n",
       "    <tr style=\"text-align: right;\">\n",
       "      <th></th>\n",
       "      <th>SMILES</th>\n",
       "      <th>Chemotyper_list</th>\n",
       "    </tr>\n",
       "  </thead>\n",
       "  <tbody>\n",
       "    <tr>\n",
       "      <th>0</th>\n",
       "      <td>N1C(=O)NC(=O)C(F)=C1</td>\n",
       "      <td>[43, 5, 15, 174, 58, 10, 176, 206, 210, 172]</td>\n",
       "    </tr>\n",
       "    <tr>\n",
       "      <th>1</th>\n",
       "      <td>N(=O)(=O)c(ccc(O)c1N(=O)(=O))c1</td>\n",
       "      <td>[19, 13C, 23, 34]</td>\n",
       "    </tr>\n",
       "    <tr>\n",
       "      <th>2</th>\n",
       "      <td>Clc1c(Cl)cc(C(O)CNC(C)C)cc1</td>\n",
       "      <td>[2, 0, 1, 214, 7, 19, 10, 21, 90C]</td>\n",
       "    </tr>\n",
       "    <tr>\n",
       "      <th>3</th>\n",
       "      <td>Oc1c(O)cc(C(O)CNC(C)C)cc1</td>\n",
       "      <td>[2, 0, 23, 1, 214, 7, 19, 10, 90C]</td>\n",
       "    </tr>\n",
       "    <tr>\n",
       "      <th>7</th>\n",
       "      <td>CN1C2CC(CC1C3OC23)OC(=O)C(CO)c4ccccc4</td>\n",
       "      <td>[2, 82C, 0, 1, 174, 171, 173, 7, 19, 40, 8, 11]</td>\n",
       "    </tr>\n",
       "  </tbody>\n",
       "</table>\n",
       "</div>"
      ],
      "text/plain": [
       "                                  SMILES  \\\n",
       "0                   N1C(=O)NC(=O)C(F)=C1   \n",
       "1        N(=O)(=O)c(ccc(O)c1N(=O)(=O))c1   \n",
       "2            Clc1c(Cl)cc(C(O)CNC(C)C)cc1   \n",
       "3              Oc1c(O)cc(C(O)CNC(C)C)cc1   \n",
       "7  CN1C2CC(CC1C3OC23)OC(=O)C(CO)c4ccccc4   \n",
       "\n",
       "                                   Chemotyper_list  \n",
       "0     [43, 5, 15, 174, 58, 10, 176, 206, 210, 172]  \n",
       "1                                [19, 13C, 23, 34]  \n",
       "2               [2, 0, 1, 214, 7, 19, 10, 21, 90C]  \n",
       "3               [2, 0, 23, 1, 214, 7, 19, 10, 90C]  \n",
       "7  [2, 82C, 0, 1, 174, 171, 173, 7, 19, 40, 8, 11]  "
      ]
     },
     "execution_count": 72,
     "metadata": {},
     "output_type": "execute_result"
    }
   ],
   "source": [
    "df_chemotyper = pd.read_csv(raw_dir+'AIM_V1_vs_AIMdb_fulllist.tsv', sep='\\t')\n",
    "\n",
    "# Transform binary fingerprint column into list \n",
    "df_chemotyper['Chemotyper_list'] = df_chemotyper.apply(lambda x: x.index[x == 1].tolist(), axis=1)\n",
    "df_chemotyper['Chemotyper_list'] = df_chemotyper['Chemotyper_list'].apply(lambda x: [s.split('_')[0]for s in x])\n",
    "df_chemotyper['Chemotyper_list'] = df_chemotyper['Chemotyper_list'].apply(lambda x: list(set(x)))\n",
    "df_chemotyper = df_chemotyper[['M_SMILES','Chemotyper_list']]\n",
    "\n",
    "df_chemotyper = df_chemotyper.rename(columns={'M_SMILES':'SMILES'})\n",
    "df_chemotyper = df_chemotyper.drop_duplicates(subset=['SMILES'])\n",
    "\n",
    "print(df_chemotyper.shape)\n",
    "df_chemotyper.head()"
   ]
  },
  {
   "cell_type": "markdown",
   "metadata": {},
   "source": [
    "## Join the two dataframes on SMILES\n",
    "\n",
    "This will allow us to compare the two lists of fragments:\n",
    "- The original database list\n",
    "- The new CSRML model list"
   ]
  },
  {
   "cell_type": "code",
   "execution_count": 73,
   "metadata": {},
   "outputs": [
    {
     "name": "stdout",
     "output_type": "stream",
     "text": [
      "(65081, 6)\n"
     ]
    },
    {
     "data": {
      "text/html": [
       "<div>\n",
       "<style scoped>\n",
       "    .dataframe tbody tr th:only-of-type {\n",
       "        vertical-align: middle;\n",
       "    }\n",
       "\n",
       "    .dataframe tbody tr th {\n",
       "        vertical-align: top;\n",
       "    }\n",
       "\n",
       "    .dataframe thead th {\n",
       "        text-align: right;\n",
       "    }\n",
       "</style>\n",
       "<table border=\"1\" class=\"dataframe\">\n",
       "  <thead>\n",
       "    <tr style=\"text-align: right;\">\n",
       "      <th></th>\n",
       "      <th>DTXSID</th>\n",
       "      <th>CASRN</th>\n",
       "      <th>SMILES</th>\n",
       "      <th>AIM_list</th>\n",
       "      <th>Chemotyper_list</th>\n",
       "      <th>Difference_aim_chemo</th>\n",
       "    </tr>\n",
       "  </thead>\n",
       "  <tbody>\n",
       "    <tr>\n",
       "      <th>0</th>\n",
       "      <td>DTXSID2020634</td>\n",
       "      <td>51218</td>\n",
       "      <td>N1C(=O)NC(=O)C(F)=C1</td>\n",
       "      <td>[5, 10, 15, 43, 58, 172, 174, 176, 206, 210, 3C]</td>\n",
       "      <td>[43, 5, 15, 174, 58, 10, 176, 206, 210, 172]</td>\n",
       "      <td>[3C]</td>\n",
       "    </tr>\n",
       "    <tr>\n",
       "      <th>1</th>\n",
       "      <td>DTXSID0020523</td>\n",
       "      <td>51285</td>\n",
       "      <td>N(=O)(=O)c(ccc(O)c1N(=O)(=O))c1</td>\n",
       "      <td>[19, 23, 34, 13C]</td>\n",
       "      <td>[19, 13C, 23, 34]</td>\n",
       "      <td>[]</td>\n",
       "    </tr>\n",
       "    <tr>\n",
       "      <th>2</th>\n",
       "      <td>DTXSID401018909</td>\n",
       "      <td>51296</td>\n",
       "      <td>Clc1c(Cl)cc(C(O)CNC(C)C)cc1</td>\n",
       "      <td>[0, 1, 2, 7, 10, 19, 21, 214, 90C]</td>\n",
       "      <td>[2, 0, 1, 214, 7, 19, 10, 21, 90C]</td>\n",
       "      <td>[]</td>\n",
       "    </tr>\n",
       "    <tr>\n",
       "      <th>3</th>\n",
       "      <td>DTXSID6023573</td>\n",
       "      <td>51343</td>\n",
       "      <td>CN1C2CC(CC1C3OC23)OC(=O)C(CO)c4ccccc4</td>\n",
       "      <td>[0, 1, 2, 7, 8, 11, 19, 40, 171, 173, 174, 82C]</td>\n",
       "      <td>[2, 82C, 0, 1, 174, 171, 173, 7, 19, 40, 8, 11]</td>\n",
       "      <td>[]</td>\n",
       "    </tr>\n",
       "    <tr>\n",
       "      <th>4</th>\n",
       "      <td>DTXSID10883225</td>\n",
       "      <td>51354</td>\n",
       "      <td>O=C(O)C(NCC1O)C1</td>\n",
       "      <td>[1, 2, 7, 10, 35, 171, 174, 6C, 7C]</td>\n",
       "      <td>[2, 7C, 1, 174, 171, 7, 10, 6C, 35]</td>\n",
       "      <td>[]</td>\n",
       "    </tr>\n",
       "  </tbody>\n",
       "</table>\n",
       "</div>"
      ],
      "text/plain": [
       "            DTXSID  CASRN                                 SMILES  \\\n",
       "0    DTXSID2020634  51218                   N1C(=O)NC(=O)C(F)=C1   \n",
       "1    DTXSID0020523  51285        N(=O)(=O)c(ccc(O)c1N(=O)(=O))c1   \n",
       "2  DTXSID401018909  51296            Clc1c(Cl)cc(C(O)CNC(C)C)cc1   \n",
       "3    DTXSID6023573  51343  CN1C2CC(CC1C3OC23)OC(=O)C(CO)c4ccccc4   \n",
       "4   DTXSID10883225  51354                       O=C(O)C(NCC1O)C1   \n",
       "\n",
       "                                           AIM_list  \\\n",
       "0  [5, 10, 15, 43, 58, 172, 174, 176, 206, 210, 3C]   \n",
       "1                                 [19, 23, 34, 13C]   \n",
       "2                [0, 1, 2, 7, 10, 19, 21, 214, 90C]   \n",
       "3   [0, 1, 2, 7, 8, 11, 19, 40, 171, 173, 174, 82C]   \n",
       "4               [1, 2, 7, 10, 35, 171, 174, 6C, 7C]   \n",
       "\n",
       "                                   Chemotyper_list Difference_aim_chemo  \n",
       "0     [43, 5, 15, 174, 58, 10, 176, 206, 210, 172]                 [3C]  \n",
       "1                                [19, 13C, 23, 34]                   []  \n",
       "2               [2, 0, 1, 214, 7, 19, 10, 21, 90C]                   []  \n",
       "3  [2, 82C, 0, 1, 174, 171, 173, 7, 19, 40, 8, 11]                   []  \n",
       "4              [2, 7C, 1, 174, 171, 7, 10, 6C, 35]                   []  "
      ]
     },
     "execution_count": 73,
     "metadata": {},
     "output_type": "execute_result"
    }
   ],
   "source": [
    "df_join = pd.merge(df_aimdb_dtx,df_chemotyper,on='SMILES',how='inner')\n",
    "\n",
    "diff_aim_chemo = []\n",
    "for row in df_join.itertuples():\n",
    "    combined_uniques = list(set(row.Chemotyper_list).symmetric_difference(set(row.AIM_list)))\n",
    "    diff_aim_chemo.append(combined_uniques)\n",
    "\n",
    "\n",
    "df_join['Difference_aim_chemo'] = diff_aim_chemo\n",
    "print(df_join.shape)\n",
    "df_join.head()\n"
   ]
  },
  {
   "cell_type": "markdown",
   "metadata": {},
   "source": [
    "With this we can find the percentage of structures which are completely matching, \n",
    "\n",
    "**Drawback:** structure that contains one incorrect match it is counted as incorrect regardless of the number of correctly matched chemotypes it had"
   ]
  },
  {
   "cell_type": "code",
   "execution_count": 74,
   "metadata": {
    "colab": {
     "base_uri": "https://localhost:8080/"
    },
    "id": "FDVSJyDG97sz",
    "outputId": "bac45d4a-6cdb-426e-ea81-be4722c26e3c"
   },
   "outputs": [
    {
     "name": "stdout",
     "output_type": "stream",
     "text": [
      "Complete Match: 76.09%\n"
     ]
    }
   ],
   "source": [
    "df_mismatch = df_join[df_join['Difference_aim_chemo'].map(lambda d: len(d)) > 0]\n",
    "full_match = 1 -(len(df_mismatch)/len(df_join))\n",
    "\n",
    "print(f'Complete Match: {100*full_match:4.2f}%')"
   ]
  },
  {
   "cell_type": "code",
   "execution_count": 75,
   "metadata": {},
   "outputs": [
    {
     "name": "stdout",
     "output_type": "stream",
     "text": [
      "(15562, 6)\n"
     ]
    }
   ],
   "source": [
    "#df_mismatch.to_csv(f'Outputs/chemo_aim_mismatches_smiles_{day}.csv')\n",
    "print(df_mismatch.shape)\n"
   ]
  },
  {
   "cell_type": "markdown",
   "metadata": {},
   "source": [
    "## Evaluating the performance of the individual fragments\n",
    "\n",
    "Next we want to evaluate the performance of each individual fragment.\n",
    "\n",
    "To do so, we get the  TP, TN, FP, FN values of each fragment to calculate individual evaluation metrics\n"
   ]
  },
  {
   "cell_type": "code",
   "execution_count": 76,
   "metadata": {
    "id": "8dVnHVBbW5Ob"
   },
   "outputs": [
    {
     "name": "stderr",
     "output_type": "stream",
     "text": [
      "<ipython-input-76-6f2c33426ad4>:20: UserWarning: Boolean Series key will be reindexed to match DataFrame index.\n",
      "  TP = df_aim[chemo_mask].shape[0]  #Both AIM and Chemo (TP)\n"
     ]
    },
    {
     "data": {
      "text/html": [
       "<div>\n",
       "<style scoped>\n",
       "    .dataframe tbody tr th:only-of-type {\n",
       "        vertical-align: middle;\n",
       "    }\n",
       "\n",
       "    .dataframe tbody tr th {\n",
       "        vertical-align: top;\n",
       "    }\n",
       "\n",
       "    .dataframe thead th {\n",
       "        text-align: right;\n",
       "    }\n",
       "</style>\n",
       "<table border=\"1\" class=\"dataframe\">\n",
       "  <thead>\n",
       "    <tr style=\"text-align: right;\">\n",
       "      <th></th>\n",
       "      <th>DTXSID</th>\n",
       "      <th>CASRN</th>\n",
       "      <th>SMILES</th>\n",
       "      <th>AIM_list</th>\n",
       "      <th>Chemotyper_list</th>\n",
       "      <th>Difference_aim_chemo</th>\n",
       "      <th>Number_different</th>\n",
       "    </tr>\n",
       "  </thead>\n",
       "  <tbody>\n",
       "    <tr>\n",
       "      <th>0</th>\n",
       "      <td>DTXSID2020634</td>\n",
       "      <td>51218</td>\n",
       "      <td>N1C(=O)NC(=O)C(F)=C1</td>\n",
       "      <td>[5, 10, 15, 43, 58, 172, 174, 176, 206, 210, 3C]</td>\n",
       "      <td>[43, 5, 15, 174, 58, 10, 176, 206, 210, 172]</td>\n",
       "      <td>[3C]</td>\n",
       "      <td>1</td>\n",
       "    </tr>\n",
       "    <tr>\n",
       "      <th>1</th>\n",
       "      <td>DTXSID0020523</td>\n",
       "      <td>51285</td>\n",
       "      <td>N(=O)(=O)c(ccc(O)c1N(=O)(=O))c1</td>\n",
       "      <td>[19, 23, 34, 13C]</td>\n",
       "      <td>[19, 13C, 23, 34]</td>\n",
       "      <td>[]</td>\n",
       "      <td>0</td>\n",
       "    </tr>\n",
       "    <tr>\n",
       "      <th>2</th>\n",
       "      <td>DTXSID401018909</td>\n",
       "      <td>51296</td>\n",
       "      <td>Clc1c(Cl)cc(C(O)CNC(C)C)cc1</td>\n",
       "      <td>[0, 1, 2, 7, 10, 19, 21, 214, 90C]</td>\n",
       "      <td>[2, 0, 1, 214, 7, 19, 10, 21, 90C]</td>\n",
       "      <td>[]</td>\n",
       "      <td>0</td>\n",
       "    </tr>\n",
       "    <tr>\n",
       "      <th>3</th>\n",
       "      <td>DTXSID6023573</td>\n",
       "      <td>51343</td>\n",
       "      <td>CN1C2CC(CC1C3OC23)OC(=O)C(CO)c4ccccc4</td>\n",
       "      <td>[0, 1, 2, 7, 8, 11, 19, 40, 171, 173, 174, 82C]</td>\n",
       "      <td>[2, 82C, 0, 1, 174, 171, 173, 7, 19, 40, 8, 11]</td>\n",
       "      <td>[]</td>\n",
       "      <td>0</td>\n",
       "    </tr>\n",
       "    <tr>\n",
       "      <th>4</th>\n",
       "      <td>DTXSID10883225</td>\n",
       "      <td>51354</td>\n",
       "      <td>O=C(O)C(NCC1O)C1</td>\n",
       "      <td>[1, 2, 7, 10, 35, 171, 174, 6C, 7C]</td>\n",
       "      <td>[2, 7C, 1, 174, 171, 7, 10, 6C, 35]</td>\n",
       "      <td>[]</td>\n",
       "      <td>0</td>\n",
       "    </tr>\n",
       "  </tbody>\n",
       "</table>\n",
       "</div>"
      ],
      "text/plain": [
       "            DTXSID  CASRN                                 SMILES  \\\n",
       "0    DTXSID2020634  51218                   N1C(=O)NC(=O)C(F)=C1   \n",
       "1    DTXSID0020523  51285        N(=O)(=O)c(ccc(O)c1N(=O)(=O))c1   \n",
       "2  DTXSID401018909  51296            Clc1c(Cl)cc(C(O)CNC(C)C)cc1   \n",
       "3    DTXSID6023573  51343  CN1C2CC(CC1C3OC23)OC(=O)C(CO)c4ccccc4   \n",
       "4   DTXSID10883225  51354                       O=C(O)C(NCC1O)C1   \n",
       "\n",
       "                                           AIM_list  \\\n",
       "0  [5, 10, 15, 43, 58, 172, 174, 176, 206, 210, 3C]   \n",
       "1                                 [19, 23, 34, 13C]   \n",
       "2                [0, 1, 2, 7, 10, 19, 21, 214, 90C]   \n",
       "3   [0, 1, 2, 7, 8, 11, 19, 40, 171, 173, 174, 82C]   \n",
       "4               [1, 2, 7, 10, 35, 171, 174, 6C, 7C]   \n",
       "\n",
       "                                   Chemotyper_list Difference_aim_chemo  \\\n",
       "0     [43, 5, 15, 174, 58, 10, 176, 206, 210, 172]                 [3C]   \n",
       "1                                [19, 13C, 23, 34]                   []   \n",
       "2               [2, 0, 1, 214, 7, 19, 10, 21, 90C]                   []   \n",
       "3  [2, 82C, 0, 1, 174, 171, 173, 7, 19, 40, 8, 11]                   []   \n",
       "4              [2, 7C, 1, 174, 171, 7, 10, 6C, 35]                   []   \n",
       "\n",
       "   Number_different  \n",
       "0                 1  \n",
       "1                 0  \n",
       "2                 0  \n",
       "3                 0  \n",
       "4                 0  "
      ]
     },
     "execution_count": 76,
     "metadata": {},
     "output_type": "execute_result"
    }
   ],
   "source": [
    "# May Take a few minutes to run\n",
    "df_join['Number_different'] = df_join['Difference_aim_chemo'].apply(lambda x: len(x))\n",
    "\n",
    "df_sub = df_join.copy()\n",
    "\n",
    "fragments = []\n",
    "for row in df_sub[\"AIM_list\"]:  \n",
    "    for fragment in row:\n",
    "        fragments.append(fragment)\n",
    "\n",
    "fragments = list(set(fragments))\n",
    "total_rows = df_sub.shape[0]\n",
    "diffs = []\n",
    "\n",
    "for i in fragments:\n",
    "    selection = [i]\n",
    "    aim_mask = df_sub['AIM_list'].apply(lambda x: any(item for item in selection if item in x))\n",
    "    df_aim = df_sub[aim_mask]\n",
    "    chemo_mask = df_sub['Chemotyper_list'].apply(lambda x: any(item for item in selection if item in x))\n",
    "    TP = df_aim[chemo_mask].shape[0]  #Both AIM and Chemo (TP)\n",
    "   \n",
    "    \n",
    "    err_mask = df_sub['Difference_aim_chemo'].apply(lambda x: any(item for item in selection if item in x))\n",
    "    df_diff = df_sub[err_mask]  #Total number of errors (FN,FP)\n",
    "    \n",
    "    avg_err = np.round(df_diff.iloc[:,-1].mean(),2) #number of totalmismatches in structures which contain a mismatch with selection\n",
    "    diff_total = df_diff.shape[0]\n",
    "    chemo_mask = df_diff['Chemotyper_list'].apply(lambda x: any(item for item in selection if item in x))\n",
    "    \n",
    "    FP = df_diff[chemo_mask].shape[0]\n",
    "    FN = diff_total - FP\n",
    "    TN = total_rows - (FP+FN+TP)\n",
    "    diffs.append([TP,FP,FN,TN,avg_err])\n",
    "    \n",
    "    \n",
    "df_sub.head()"
   ]
  },
  {
   "cell_type": "markdown",
   "metadata": {},
   "source": [
    "# Evaluation metrics:\n",
    "- Accuracy (TP + TN)/ (TP + FN + FP + TN)\n",
    "- Sensitivity (TP)/(TP + FN) True positive rate\n",
    "- Specificity (TN) / (FP + TN) True negative rate\n",
    "- Precision (TP) / (TP + FP) Positive predictive value\n",
    "- Jaccard Similarity, TP / (TP + FN + FP)\n"
   ]
  },
  {
   "cell_type": "code",
   "execution_count": 77,
   "metadata": {},
   "outputs": [],
   "source": [
    "diffs_dict = dict(zip(fragments,diffs))\n",
    "\n",
    "df_diff = pd.DataFrame.from_dict(diffs_dict).T\n",
    "df_diff = df_diff.rename(columns={df_diff.columns[0]:'TP',\n",
    "                                  df_diff.columns[1]:'FP',\n",
    "                                  df_diff.columns[2]:'FN',\n",
    "                                  df_diff.columns[3]:'TN',\n",
    "                                  df_diff.columns[4]:'Avg total mismatch'})\n",
    "\n",
    "\n",
    "\n",
    "df_diff['Accuracy (TP+TN)/Total'] = df_diff[['TP','TN']].sum(axis=1).div(df_diff[['TP','FN','FP','TN']].sum(axis=1))\n",
    "df_diff['Sensitivity (TP) / (TP+FN)'] = df_diff['TP'].div(df_diff[['TP','FN']].sum(axis=1))\n",
    "df_diff['Specificity (TN) / (FP+TN)'] = df_diff['TN'].div(df_diff[['FP','TN']].sum(axis=1))\n",
    "df_diff['Precision (TP) / (TP+FP)'] = df_diff['TP'].div(df_diff[['TP','FP']].sum(axis=1))\n",
    "df_diff['Jaccard (TP) / (TP+FP+FN)'] = df_diff['TP'].div(df_diff[['TP','FP','FN']].sum(axis=1))\n",
    "df_diff['Total Mismatches'] = df_diff[['FP','FN']].sum(axis=1)\n",
    "df_diff['Fraction Mismatches'] = df_diff[['FP','FN']].sum(axis=1).div(df_diff[['TP','FN','FP']].sum(axis=1))\n",
    "df_diff = df_diff.fillna(0)\n",
    "\n",
    "\n",
    "df_diff[['TP','FP','FN','TN','Total Mismatches']] = df_diff[['TP','FP','FN','TN', 'Total Mismatches']].astype(int)\n",
    "\n"
   ]
  },
  {
   "cell_type": "code",
   "execution_count": 78,
   "metadata": {
    "tags": []
   },
   "outputs": [
    {
     "data": {
      "text/plain": [
       "TP                              720.956\n",
       "FP                               13.450\n",
       "FN                               14.398\n",
       "TN                            64332.197\n",
       "Avg total mismatch                1.776\n",
       "Accuracy (TP+TN)/Total            1.000\n",
       "Sensitivity (TP) / (TP+FN)        0.901\n",
       "Specificity (TN) / (FP+TN)        1.000\n",
       "Precision (TP) / (TP+FP)          0.900\n",
       "Jaccard (TP) / (TP+FP+FN)         0.829\n",
       "Total Mismatches                 27.847\n",
       "Fraction Mismatches               0.171\n",
       "dtype: float64"
      ]
     },
     "execution_count": 78,
     "metadata": {},
     "output_type": "execute_result"
    }
   ],
   "source": [
    "#np.round(df_diff.describe(),3)\n",
    "np.round(df_diff.mean(),3)"
   ]
  },
  {
   "cell_type": "markdown",
   "metadata": {},
   "source": [
    "## Plot Distribution of our Fragments:\n",
    "\n",
    "We can see how some fragments are responsible for lower performance"
   ]
  },
  {
   "cell_type": "code",
   "execution_count": 88,
   "metadata": {},
   "outputs": [],
   "source": [
    "\n",
    "\n",
    "plt.rcParams.update(plt.rcParamsDefault)\n",
    "plt.style.use('ggplot')\n",
    "\n",
    "\n",
    "def plot_hist(col_n):\n",
    "    X = df_diff.iloc[:,col_n]\n",
    "    fig,ax1 = plt.subplots(ncols=1)\n",
    "    fig.set_size_inches(3, 2)\n",
    "    \n",
    "    values, base = np.histogram(X,bins=10)\n",
    "    \n",
    "    cumulative=np.cumsum(values)\n",
    "    #cumulative = np.insert(cumulative,0,0)\n",
    "    cdf = cumulative / sum(values)\n",
    "    \n",
    "    n,bins,patches = ax1.hist(X,bins=10,range=(0,1),linewidth=1,edgecolor='black')\n",
    "    ax1.set_title('AIM Translation Evaluation',fontsize=16)\n",
    "    ax1.set_ylabel('Frequency',fontsize=12)\n",
    "    ax1.set_xlabel(df_diff.columns[col_n],fontsize=12)\n",
    "    ax2 = ax1.twinx()\n",
    "    ax2.plot(base[:-1],cdf,c='orange')\n",
    "    ax2.set_ylim(0,1)\n",
    "    ax2.set_ylabel('CDF',fontsize=12)"
   ]
  },
  {
   "cell_type": "code",
   "execution_count": 89,
   "metadata": {},
   "outputs": [
    {
     "data": {
      "image/png": "[encoded data removed]",
      "text/plain": [
       "<Figure size 216x144 with 2 Axes>"
      ]
     },
     "metadata": {
      "needs_background": "light"
     },
     "output_type": "display_data"
    },
    {
     "data": {
      "image/png": "[encoded data removed]",
      "text/plain": [
       "<Figure size 216x144 with 2 Axes>"
      ]
     },
     "metadata": {
      "needs_background": "light"
     },
     "output_type": "display_data"
    }
   ],
   "source": [
    "%matplotlib inline\n",
    "\n",
    "#plot_hist(5) #Accuracy\n",
    "plot_hist(6) #Sensitivity\n",
    "#plot_hist(7) #Specificity\n",
    "plot_hist(8) #Precision"
   ]
  },
  {
   "cell_type": "markdown",
   "metadata": {},
   "source": [
    "# Finding the Number of mismatches per structure \n",
    "As each structure contains multiple chemotypes, we want to evaluate by looking at \n",
    "the (number of mismatches) / (number of total fragments) in a structure instead of doing the previous binary approach (any number of mismatch counts the same).\n",
    "\n",
    "(1 mismatch / 10 total fragments) != (4 mismatch / 10 total fragments)\n"
   ]
  },
  {
   "cell_type": "code",
   "execution_count": 90,
   "metadata": {},
   "outputs": [
    {
     "name": "stdout",
     "output_type": "stream",
     "text": [
      "[49519, 11387, 3082, 715, 202, 66, 18, 11, 15, 20]\n"
     ]
    },
    {
     "data": {
      "image/png": "[encoded data removed]",
      "text/plain": [
       "<Figure size 648x432 with 1 Axes>"
      ]
     },
     "metadata": {
      "needs_background": "light"
     },
     "output_type": "display_data"
    }
   ],
   "source": [
    "df_sub['Number_different'] = df_sub['Difference_aim_chemo'].apply(lambda x: len(x))\n",
    "\n",
    "X = df_sub['Number_different']\n",
    "\n",
    "plt.figure(figsize=(9,6))\n",
    "n,bins,patches = plt.hist(X,bins=10,range=(0,10),linewidth=1,edgecolor='black')\n",
    "int_list = [int(i) for i in n]\n",
    "print(int_list)\n",
    "plt.ylabel('Number of Compounds',fontsize=16)\n",
    "plt.xlabel('Number of Fragment Mismatches',fontsize=16)\n",
    "plt.savefig(figures_dir+'Figure3.png', dpi = 300)\n",
    "#plt.title('Distribution of Mismatches',fontsize=22)"
   ]
  },
  {
   "cell_type": "code",
   "execution_count": 91,
   "metadata": {},
   "outputs": [
    {
     "name": "stdout",
     "output_type": "stream",
     "text": [
      "96.00%\n"
     ]
    }
   ],
   "source": [
    "df_sub\n",
    "df_sub['Total AIM'] = df_sub['AIM_list'].apply(lambda x: len(x))\n",
    "df_sub['Total Chemo'] = df_sub['Chemotyper_list'].apply(lambda x: len(x))\n",
    "\n",
    "sums = df_sub[['Total AIM','Number_different','Total Chemo']].sum(axis=0)\n",
    "\n",
    "\n",
    "percent = (1-(sums[1]/sums[0]))*100\n",
    "print(f'{percent:.2f}%')\n"
   ]
  },
  {
   "cell_type": "code",
   "execution_count": 92,
   "metadata": {},
   "outputs": [
    {
     "data": {
      "image/png": "[encoded data removed]",
      "text/plain": [
       "<Figure size 648x432 with 1 Axes>"
      ]
     },
     "metadata": {
      "needs_background": "light"
     },
     "output_type": "display_data"
    }
   ],
   "source": [
    "X = df_sub['Total AIM']\n",
    "plt.figure(figsize=(9,6))\n",
    "\n",
    "n,bins,patches = plt.hist(X,bins=30,range=(0,30),linewidth=1,edgecolor='black')\n",
    "plt.ylabel('Number Compounds',fontsize=16)\n",
    "plt.xlabel('Number of Fragments',fontsize=16)\n",
    "#plt.title('Distribution of Fragments',fontsize=22)\n",
    "plt.savefig(figures_dir+'Figure3b.png', dpi = 300)"
   ]
  },
  {
   "cell_type": "code",
   "execution_count": 93,
   "metadata": {},
   "outputs": [],
   "source": [
    "df_chem = pd.read_csv(raw_dir+'AIM_V1_vs_AIMdb_fulllist.tsv', sep='\\t')\n",
    "\n",
    "df_0 = df_chem.copy()\n",
    "df_0_sums = df_0.sum(numeric_only=True,axis=0)\n",
    "\n",
    "def plot_loghist(x, bins,color):\n",
    "    hist, bins = np.histogram(x, bins=bins)\n",
    "    logbins = np.logspace(np.log10(bins[0]),np.log10(bins[-1]),len(bins))\n",
    "    #plt.grid(axis='y', alpha=0.75)\n",
    "    plt.figure(figsize = (9,6))\n",
    "    plt.hist(x, bins=logbins,color=color,edgecolor='black',linewidth='1')\n",
    "    plt.ylabel('Fragment Frequency')\n",
    "    plt.xlabel('Number of Compounds')\n",
    "    plt.xscale('log')\n",
    "    plt.savefig(figures_dir+'Figure3.png', dpi = 300)\n",
    "x = np.array(df_0_sums)\n",
    "x = x[x!=0]\n",
    "\n",
    "#plt.title('AIM Fragments')\n",
    "#plot_loghist(x, 10,'skyblue')"
   ]
  },
  {
   "cell_type": "code",
   "execution_count": 94,
   "metadata": {},
   "outputs": [
    {
     "data": {
      "image/png": "[encoded data removed]",
      "text/plain": [
       "<Figure size 648x432 with 1 Axes>"
      ]
     },
     "metadata": {
      "needs_background": "light"
     },
     "output_type": "display_data"
    }
   ],
   "source": [
    "plot_loghist(x, 10,'skyblue')"
   ]
  },
  {
   "cell_type": "code",
   "execution_count": null,
   "metadata": {},
   "outputs": [],
   "source": []
  }
 ],
 "metadata": {
  "colab": {
   "authorship_tag": "ABX9TyOM9IEgwpVoRWTZpcasOgEt",
   "collapsed_sections": [],
   "include_colab_link": true,
   "name": "AIM_Check.ipynb",
   "provenance": []
  },
  "kernelspec": {
   "display_name": "matt_env",
   "language": "python",
   "name": "matt_env"
  },
  "language_info": {
   "codemirror_mode": {
    "name": "ipython",
    "version": 3
   },
   "file_extension": ".py",
   "mimetype": "text/x-python",
   "name": "python",
   "nbconvert_exporter": "python",
   "pygments_lexer": "ipython3",
   "version": "3.10.4"
  }
 },
 "nbformat": 4,
 "nbformat_minor": 4
}
