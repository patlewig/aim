{
 "cells": [
  {
   "cell_type": "markdown",
   "metadata": {
    "colab_type": "text",
    "id": "view-in-github"
   },
   "source": [
    "<a href=\"https://colab.research.google.com/github/patlewig/aim/blob/master/notebooks/Comptox_lists.ipynb\" target=\"_parent\"><img src=\"https://colab.research.google.com/assets/colab-badge.svg\" alt=\"Open In Colab\"/></a>"
   ]
  },
  {
   "cell_type": "markdown",
   "metadata": {},
   "source": [
    "## Combining lists from CompTox Dashboard into a single fp file\n",
    "\n",
    "Purpose: Create a file from multiple lists of interest (IRIS,TSCA,TOXCAST, etc..) and combine them into one fingerprint file to easily compare the feature space of the two fingerprint sets."
   ]
  },
  {
   "cell_type": "markdown",
   "metadata": {},
   "source": [
    "#### QAPP ID: I-CCED-0032994-QP-1-0\n",
    "#### Author: Matthew Adams\n",
    "#### Principal Investigator: Grace Patlewicz\n",
    "#### Last Modified May 05 2022\n"
   ]
  },
  {
   "cell_type": "code",
   "execution_count": null,
   "metadata": {
    "colab": {
     "base_uri": "https://localhost:8080/"
    },
    "id": "7ANDOYBF--Bk",
    "outputId": "84ee01d7-ccac-443a-ef2c-4b58327726ee"
   },
   "outputs": [
    {
     "name": "stderr",
     "output_type": "stream",
     "text": [
      "/usr/local/lib/python3.7/dist-packages/ipykernel_launcher.py:10: SettingWithCopyWarning: \n",
      "A value is trying to be set on a copy of a slice from a DataFrame.\n",
      "Try using .loc[row_indexer,col_indexer] = value instead\n",
      "\n",
      "See the caveats in the documentation: https://pandas.pydata.org/pandas-docs/stable/user_guide/indexing.html#returning-a-view-versus-a-copy\n",
      "  # Remove the CWD from sys.path while we load stuff.\n"
     ]
    }
   ],
   "source": [
    "import pandas as pd\n",
    "import glob\n",
    "\n",
    "a_dict = {}\n",
    "for file in glob.glob('*.csv'):\n",
    "  df = pd.read_csv(file)\n",
    "  df['DTXSID'] = df['DTXSID'].map(lambda x: x.lstrip('https://comptox.epa.gov/dashboard/chemical/details/'))\n",
    "  df = df[[\"DTXSID\", \"CASRN\", \"SMILES\", \"INCHIKEY\"]]\n",
    "  file_short = file.split('-')[0]\n",
    "  df[file_short] = 1\n",
    "  a_dict[f\"df_{file_short}\"] = df\n",
    "\n",
    "\n",
    "\n",
    "for i, (key,value) in enumerate(a_dict.items()):\n",
    "  if i == 0:\n",
    "    df1, df2 = [list(a_dict.values())[i], list(a_dict.values())[i+1]]\n",
    "    df1 = pd.merge(df1, df2, on=['DTXSID', 'INCHIKEY', 'SMILES', 'CASRN'],how='outer')\n",
    "  elif i < (len(a_dict) - 1):\n",
    "    df2 = list(a_dict.values())[i+1]\n",
    "    df1 = pd.merge(df1, df2, on=['DTXSID', 'INCHIKEY', 'SMILES', 'CASRN'],how='outer')\n",
    "\n",
    "\n",
    "\n",
    "df1['TAG_list'] = df1.apply(lambda x: x.index[x == 1].tolist(), axis=1)\n",
    "df1 = df1[[\"DTXSID\", \"CASRN\", \"SMILES\", \"INCHIKEY\", \"TAG_list\"]]\n",
    "df1.to_csv('CompTox_SUPERSET.csv')\n",
    "\n"
   ]
  },
  {
   "cell_type": "code",
   "execution_count": null,
   "metadata": {
    "id": "oNxBLJhN-t54"
   },
   "outputs": [],
   "source": [
    "## SMI File -> we will need this to get our fingerprints file\n",
    "df_smiles = df1[['SMILES','DTXSID']].dropna()\n",
    "\n",
    "df_smiles.to_csv('Comptox_SUPERSET.smi', sep=\"\\t\", index=False, header=False)\n",
    "\n"
   ]
  }
 ],
 "metadata": {
  "colab": {
   "authorship_tag": "ABX9TyP+D6ilKUhUorm2M8eAqsky",
   "collapsed_sections": [],
   "include_colab_link": true,
   "name": "Comptox_lists.ipynb",
   "provenance": []
  },
  "kernelspec": {
   "display_name": "Python 3 (ipykernel)",
   "language": "python",
   "name": "python3"
  },
  "language_info": {
   "codemirror_mode": {
    "name": "ipython",
    "version": 3
   },
   "file_extension": ".py",
   "mimetype": "text/x-python",
   "name": "python",
   "nbconvert_exporter": "python",
   "pygments_lexer": "ipython3",
   "version": "3.10.4"
  }
 },
 "nbformat": 4,
 "nbformat_minor": 4
}
